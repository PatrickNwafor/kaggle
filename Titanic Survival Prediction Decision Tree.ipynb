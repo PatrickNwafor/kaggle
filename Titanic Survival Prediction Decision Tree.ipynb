{
 "cells": [
  {
   "cell_type": "code",
   "execution_count": 1,
   "id": "a42911c9",
   "metadata": {
    "_cell_guid": "b1076dfc-b9ad-4769-8c92-a6c4dae69d19",
    "_uuid": "8f2839f25d086af736a60e9eeb907d3b93b6e0e5",
    "execution": {
     "iopub.execute_input": "2022-03-21T11:05:32.255231Z",
     "iopub.status.busy": "2022-03-21T11:05:32.254173Z",
     "iopub.status.idle": "2022-03-21T11:05:33.376789Z",
     "shell.execute_reply": "2022-03-21T11:05:33.377347Z",
     "shell.execute_reply.started": "2022-03-21T11:00:59.090809Z"
    },
    "papermill": {
     "duration": 1.166051,
     "end_time": "2022-03-21T11:05:33.377658",
     "exception": false,
     "start_time": "2022-03-21T11:05:32.211607",
     "status": "completed"
    },
    "tags": []
   },
   "outputs": [],
   "source": [
    "import numpy as np # linear algebra\n",
    "import pandas as pd # data processing, CSV file I/O (e.g. pd.read_csv)\n",
    "import matplotlib.pyplot as plt\n",
    "import seaborn as sns"
   ]
  },
  {
   "cell_type": "code",
   "execution_count": 2,
   "id": "20051051",
   "metadata": {
    "execution": {
     "iopub.execute_input": "2022-03-21T11:05:33.462492Z",
     "iopub.status.busy": "2022-03-21T11:05:33.461793Z",
     "iopub.status.idle": "2022-03-21T11:05:33.499516Z",
     "shell.execute_reply": "2022-03-21T11:05:33.500048Z",
     "shell.execute_reply.started": "2022-03-21T11:00:59.098167Z"
    },
    "papermill": {
     "duration": 0.080874,
     "end_time": "2022-03-21T11:05:33.500234",
     "exception": false,
     "start_time": "2022-03-21T11:05:33.419360",
     "status": "completed"
    },
    "tags": []
   },
   "outputs": [],
   "source": [
    "raw_train = pd.read_csv(\"/kaggle/input/titanic/train.csv\")\n",
    "raw_test = pd.read_csv(\"/kaggle/input/titanic/test.csv\")"
   ]
  },
  {
   "cell_type": "code",
   "execution_count": 3,
   "id": "ad67a827",
   "metadata": {
    "execution": {
     "iopub.execute_input": "2022-03-21T11:05:33.583223Z",
     "iopub.status.busy": "2022-03-21T11:05:33.582596Z",
     "iopub.status.idle": "2022-03-21T11:05:33.598735Z",
     "shell.execute_reply": "2022-03-21T11:05:33.599206Z",
     "shell.execute_reply.started": "2022-03-21T11:00:59.129324Z"
    },
    "papermill": {
     "duration": 0.061752,
     "end_time": "2022-03-21T11:05:33.599374",
     "exception": false,
     "start_time": "2022-03-21T11:05:33.537622",
     "status": "completed"
    },
    "tags": []
   },
   "outputs": [
    {
     "data": {
      "text/html": [
       "<div>\n",
       "<style scoped>\n",
       "    .dataframe tbody tr th:only-of-type {\n",
       "        vertical-align: middle;\n",
       "    }\n",
       "\n",
       "    .dataframe tbody tr th {\n",
       "        vertical-align: top;\n",
       "    }\n",
       "\n",
       "    .dataframe thead th {\n",
       "        text-align: right;\n",
       "    }\n",
       "</style>\n",
       "<table border=\"1\" class=\"dataframe\">\n",
       "  <thead>\n",
       "    <tr style=\"text-align: right;\">\n",
       "      <th></th>\n",
       "      <th>PassengerId</th>\n",
       "      <th>Survived</th>\n",
       "      <th>Pclass</th>\n",
       "      <th>Name</th>\n",
       "      <th>Sex</th>\n",
       "      <th>Age</th>\n",
       "      <th>SibSp</th>\n",
       "      <th>Parch</th>\n",
       "      <th>Ticket</th>\n",
       "      <th>Fare</th>\n",
       "      <th>Cabin</th>\n",
       "      <th>Embarked</th>\n",
       "    </tr>\n",
       "  </thead>\n",
       "  <tbody>\n",
       "    <tr>\n",
       "      <th>0</th>\n",
       "      <td>1</td>\n",
       "      <td>0</td>\n",
       "      <td>3</td>\n",
       "      <td>Braund, Mr. Owen Harris</td>\n",
       "      <td>male</td>\n",
       "      <td>22.0</td>\n",
       "      <td>1</td>\n",
       "      <td>0</td>\n",
       "      <td>A/5 21171</td>\n",
       "      <td>7.2500</td>\n",
       "      <td>NaN</td>\n",
       "      <td>S</td>\n",
       "    </tr>\n",
       "    <tr>\n",
       "      <th>1</th>\n",
       "      <td>2</td>\n",
       "      <td>1</td>\n",
       "      <td>1</td>\n",
       "      <td>Cumings, Mrs. John Bradley (Florence Briggs Th...</td>\n",
       "      <td>female</td>\n",
       "      <td>38.0</td>\n",
       "      <td>1</td>\n",
       "      <td>0</td>\n",
       "      <td>PC 17599</td>\n",
       "      <td>71.2833</td>\n",
       "      <td>C85</td>\n",
       "      <td>C</td>\n",
       "    </tr>\n",
       "    <tr>\n",
       "      <th>2</th>\n",
       "      <td>3</td>\n",
       "      <td>1</td>\n",
       "      <td>3</td>\n",
       "      <td>Heikkinen, Miss. Laina</td>\n",
       "      <td>female</td>\n",
       "      <td>26.0</td>\n",
       "      <td>0</td>\n",
       "      <td>0</td>\n",
       "      <td>STON/O2. 3101282</td>\n",
       "      <td>7.9250</td>\n",
       "      <td>NaN</td>\n",
       "      <td>S</td>\n",
       "    </tr>\n",
       "    <tr>\n",
       "      <th>3</th>\n",
       "      <td>4</td>\n",
       "      <td>1</td>\n",
       "      <td>1</td>\n",
       "      <td>Futrelle, Mrs. Jacques Heath (Lily May Peel)</td>\n",
       "      <td>female</td>\n",
       "      <td>35.0</td>\n",
       "      <td>1</td>\n",
       "      <td>0</td>\n",
       "      <td>113803</td>\n",
       "      <td>53.1000</td>\n",
       "      <td>C123</td>\n",
       "      <td>S</td>\n",
       "    </tr>\n",
       "    <tr>\n",
       "      <th>4</th>\n",
       "      <td>5</td>\n",
       "      <td>0</td>\n",
       "      <td>3</td>\n",
       "      <td>Allen, Mr. William Henry</td>\n",
       "      <td>male</td>\n",
       "      <td>35.0</td>\n",
       "      <td>0</td>\n",
       "      <td>0</td>\n",
       "      <td>373450</td>\n",
       "      <td>8.0500</td>\n",
       "      <td>NaN</td>\n",
       "      <td>S</td>\n",
       "    </tr>\n",
       "  </tbody>\n",
       "</table>\n",
       "</div>"
      ],
      "text/plain": [
       "   PassengerId  Survived  Pclass  \\\n",
       "0            1         0       3   \n",
       "1            2         1       1   \n",
       "2            3         1       3   \n",
       "3            4         1       1   \n",
       "4            5         0       3   \n",
       "\n",
       "                                                Name     Sex   Age  SibSp  \\\n",
       "0                            Braund, Mr. Owen Harris    male  22.0      1   \n",
       "1  Cumings, Mrs. John Bradley (Florence Briggs Th...  female  38.0      1   \n",
       "2                             Heikkinen, Miss. Laina  female  26.0      0   \n",
       "3       Futrelle, Mrs. Jacques Heath (Lily May Peel)  female  35.0      1   \n",
       "4                           Allen, Mr. William Henry    male  35.0      0   \n",
       "\n",
       "   Parch            Ticket     Fare Cabin Embarked  \n",
       "0      0         A/5 21171   7.2500   NaN        S  \n",
       "1      0          PC 17599  71.2833   C85        C  \n",
       "2      0  STON/O2. 3101282   7.9250   NaN        S  \n",
       "3      0            113803  53.1000  C123        S  \n",
       "4      0            373450   8.0500   NaN        S  "
      ]
     },
     "execution_count": 3,
     "metadata": {},
     "output_type": "execute_result"
    }
   ],
   "source": [
    "raw_train.head()"
   ]
  },
  {
   "cell_type": "code",
   "execution_count": 4,
   "id": "acb5798d",
   "metadata": {
    "execution": {
     "iopub.execute_input": "2022-03-21T11:05:33.677985Z",
     "iopub.status.busy": "2022-03-21T11:05:33.677359Z",
     "iopub.status.idle": "2022-03-21T11:05:33.684812Z",
     "shell.execute_reply": "2022-03-21T11:05:33.685260Z",
     "shell.execute_reply.started": "2022-03-21T11:00:59.149200Z"
    },
    "papermill": {
     "duration": 0.048018,
     "end_time": "2022-03-21T11:05:33.685461",
     "exception": false,
     "start_time": "2022-03-21T11:05:33.637443",
     "status": "completed"
    },
    "tags": []
   },
   "outputs": [
    {
     "data": {
      "text/plain": [
       "PassengerId      0\n",
       "Survived         0\n",
       "Pclass           0\n",
       "Name             0\n",
       "Sex              0\n",
       "Age            177\n",
       "SibSp            0\n",
       "Parch            0\n",
       "Ticket           0\n",
       "Fare             0\n",
       "Cabin          687\n",
       "Embarked         2\n",
       "dtype: int64"
      ]
     },
     "execution_count": 4,
     "metadata": {},
     "output_type": "execute_result"
    }
   ],
   "source": [
    "raw_train.isna().sum()"
   ]
  },
  {
   "cell_type": "markdown",
   "id": "7c5b51b2",
   "metadata": {
    "papermill": {
     "duration": 0.038355,
     "end_time": "2022-03-21T11:05:33.762257",
     "exception": false,
     "start_time": "2022-03-21T11:05:33.723902",
     "status": "completed"
    },
    "tags": []
   },
   "source": [
    "**Converting all cabins number to their floor code**"
   ]
  },
  {
   "cell_type": "code",
   "execution_count": 5,
   "id": "317bbcd3",
   "metadata": {
    "execution": {
     "iopub.execute_input": "2022-03-21T11:05:33.843495Z",
     "iopub.status.busy": "2022-03-21T11:05:33.842885Z",
     "iopub.status.idle": "2022-03-21T11:05:33.854054Z",
     "shell.execute_reply": "2022-03-21T11:05:33.853475Z",
     "shell.execute_reply.started": "2022-03-21T11:00:59.169702Z"
    },
    "papermill": {
     "duration": 0.052227,
     "end_time": "2022-03-21T11:05:33.854193",
     "exception": false,
     "start_time": "2022-03-21T11:05:33.801966",
     "status": "completed"
    },
    "tags": []
   },
   "outputs": [
    {
     "data": {
      "text/plain": [
       "array([nan, 'C85', 'C123', 'E46', 'G6', 'C103', 'D56', 'A6',\n",
       "       'C23 C25 C27', 'B78', 'D33', 'B30', 'C52', 'B28', 'C83', 'F33',\n",
       "       'F G73', 'E31', 'A5', 'D10 D12', 'D26', 'C110', 'B58 B60', 'E101',\n",
       "       'F E69', 'D47', 'B86', 'F2', 'C2', 'E33', 'B19', 'A7', 'C49', 'F4',\n",
       "       'A32', 'B4', 'B80', 'A31', 'D36', 'D15', 'C93', 'C78', 'D35',\n",
       "       'C87', 'B77', 'E67', 'B94', 'C125', 'C99', 'C118', 'D7', 'A19',\n",
       "       'B49', 'D', 'C22 C26', 'C106', 'C65', 'E36', 'C54',\n",
       "       'B57 B59 B63 B66', 'C7', 'E34', 'C32', 'B18', 'C124', 'C91', 'E40',\n",
       "       'T', 'C128', 'D37', 'B35', 'E50', 'C82', 'B96 B98', 'E10', 'E44',\n",
       "       'A34', 'C104', 'C111', 'C92', 'E38', 'D21', 'E12', 'E63', 'A14',\n",
       "       'B37', 'C30', 'D20', 'B79', 'E25', 'D46', 'B73', 'C95', 'B38',\n",
       "       'B39', 'B22', 'C86', 'C70', 'A16', 'C101', 'C68', 'A10', 'E68',\n",
       "       'B41', 'A20', 'D19', 'D50', 'D9', 'A23', 'B50', 'A26', 'D48',\n",
       "       'E58', 'C126', 'B71', 'B51 B53 B55', 'D49', 'B5', 'B20', 'F G63',\n",
       "       'C62 C64', 'E24', 'C90', 'C45', 'E8', 'B101', 'D45', 'C46', 'D30',\n",
       "       'E121', 'D11', 'E77', 'F38', 'B3', 'D6', 'B82 B84', 'D17', 'A36',\n",
       "       'B102', 'B69', 'E49', 'C47', 'D28', 'E17', 'A24', 'C50', 'B42',\n",
       "       'C148'], dtype=object)"
      ]
     },
     "execution_count": 5,
     "metadata": {},
     "output_type": "execute_result"
    }
   ],
   "source": [
    "raw_train[\"Cabin\"].unique()"
   ]
  },
  {
   "cell_type": "code",
   "execution_count": 6,
   "id": "8729985d",
   "metadata": {
    "execution": {
     "iopub.execute_input": "2022-03-21T11:05:33.940016Z",
     "iopub.status.busy": "2022-03-21T11:05:33.939350Z",
     "iopub.status.idle": "2022-03-21T11:05:33.946036Z",
     "shell.execute_reply": "2022-03-21T11:05:33.945436Z",
     "shell.execute_reply.started": "2022-03-21T11:00:59.183835Z"
    },
    "papermill": {
     "duration": 0.052433,
     "end_time": "2022-03-21T11:05:33.946177",
     "exception": false,
     "start_time": "2022-03-21T11:05:33.893744",
     "status": "completed"
    },
    "tags": []
   },
   "outputs": [],
   "source": [
    "raw_train_drop = raw_train.copy()\n",
    "raw_test_drop = raw_test.copy()\n",
    "\n",
    "def replace_cabin(cabin_col):\n",
    "    if(pd.isnull(cabin_col)):\n",
    "        return 0\n",
    "    else:\n",
    "        return cabin_col[0]\n",
    "\n",
    "raw_train_drop[\"Floor Code\"] = raw_train_drop[\"Cabin\"].apply(replace_cabin)\n",
    "raw_test_drop[\"Floor Code\"] = raw_test_drop[\"Cabin\"].apply(replace_cabin)"
   ]
  },
  {
   "cell_type": "code",
   "execution_count": 7,
   "id": "93a8294a",
   "metadata": {
    "execution": {
     "iopub.execute_input": "2022-03-21T11:05:34.031418Z",
     "iopub.status.busy": "2022-03-21T11:05:34.030662Z",
     "iopub.status.idle": "2022-03-21T11:05:34.033741Z",
     "shell.execute_reply": "2022-03-21T11:05:34.034169Z",
     "shell.execute_reply.started": "2022-03-21T11:00:59.197630Z"
    },
    "papermill": {
     "duration": 0.048572,
     "end_time": "2022-03-21T11:05:34.034333",
     "exception": false,
     "start_time": "2022-03-21T11:05:33.985761",
     "status": "completed"
    },
    "tags": []
   },
   "outputs": [
    {
     "data": {
      "text/plain": [
       "array([0, 'C', 'E', 'G', 'D', 'A', 'B', 'F', 'T'], dtype=object)"
      ]
     },
     "execution_count": 7,
     "metadata": {},
     "output_type": "execute_result"
    }
   ],
   "source": [
    "raw_train_drop[\"Floor Code\"].unique()"
   ]
  },
  {
   "cell_type": "markdown",
   "id": "3730d98c",
   "metadata": {
    "papermill": {
     "duration": 0.039138,
     "end_time": "2022-03-21T11:05:34.112149",
     "exception": false,
     "start_time": "2022-03-21T11:05:34.073011",
     "status": "completed"
    },
    "tags": []
   },
   "source": [
    "**Replacing the NAN values with the unique value with max appearance**"
   ]
  },
  {
   "cell_type": "code",
   "execution_count": 8,
   "id": "3c2aa09b",
   "metadata": {
    "execution": {
     "iopub.execute_input": "2022-03-21T11:05:34.196522Z",
     "iopub.status.busy": "2022-03-21T11:05:34.195780Z",
     "iopub.status.idle": "2022-03-21T11:05:34.198742Z",
     "shell.execute_reply": "2022-03-21T11:05:34.199171Z",
     "shell.execute_reply.started": "2022-03-21T11:00:59.209954Z"
    },
    "papermill": {
     "duration": 0.047988,
     "end_time": "2022-03-21T11:05:34.199330",
     "exception": false,
     "start_time": "2022-03-21T11:05:34.151342",
     "status": "completed"
    },
    "tags": []
   },
   "outputs": [
    {
     "data": {
      "text/plain": [
       "array(['S', 'C', 'Q', nan], dtype=object)"
      ]
     },
     "execution_count": 8,
     "metadata": {},
     "output_type": "execute_result"
    }
   ],
   "source": [
    "raw_train[\"Embarked\"].unique()"
   ]
  },
  {
   "cell_type": "code",
   "execution_count": 9,
   "id": "11cac08b",
   "metadata": {
    "execution": {
     "iopub.execute_input": "2022-03-21T11:05:34.290750Z",
     "iopub.status.busy": "2022-03-21T11:05:34.290011Z",
     "iopub.status.idle": "2022-03-21T11:05:34.298262Z",
     "shell.execute_reply": "2022-03-21T11:05:34.297754Z",
     "shell.execute_reply.started": "2022-03-21T11:00:59.226094Z"
    },
    "papermill": {
     "duration": 0.060166,
     "end_time": "2022-03-21T11:05:34.298404",
     "exception": false,
     "start_time": "2022-03-21T11:05:34.238238",
     "status": "completed"
    },
    "tags": []
   },
   "outputs": [],
   "source": [
    "comb = pd.concat((raw_train_drop, raw_test_drop), axis=0)\n",
    "vc = comb[\"Embarked\"].value_counts()\n",
    "raw_train_drop[\"Embarked\"].replace(np.nan, vc.idxmax(), inplace=True)\n",
    "raw_test_drop[\"Embarked\"].replace(np.nan, vc.idxmax(), inplace=True)"
   ]
  },
  {
   "cell_type": "markdown",
   "id": "9f999a09",
   "metadata": {
    "papermill": {
     "duration": 0.0388,
     "end_time": "2022-03-21T11:05:34.376487",
     "exception": false,
     "start_time": "2022-03-21T11:05:34.337687",
     "status": "completed"
    },
    "tags": []
   },
   "source": []
  },
  {
   "cell_type": "markdown",
   "id": "3e017880",
   "metadata": {
    "execution": {
     "iopub.execute_input": "2022-03-19T14:40:43.022248Z",
     "iopub.status.busy": "2022-03-19T14:40:43.021941Z",
     "iopub.status.idle": "2022-03-19T14:40:43.027367Z",
     "shell.execute_reply": "2022-03-19T14:40:43.026311Z",
     "shell.execute_reply.started": "2022-03-19T14:40:43.022214Z"
    },
    "papermill": {
     "duration": 0.03868,
     "end_time": "2022-03-21T11:05:34.454895",
     "exception": false,
     "start_time": "2022-03-21T11:05:34.416215",
     "status": "completed"
    },
    "tags": []
   },
   "source": [
    "**Replacing missing age with average age for train data and Fare for test data**"
   ]
  },
  {
   "cell_type": "code",
   "execution_count": 10,
   "id": "e6dc986b",
   "metadata": {
    "execution": {
     "iopub.execute_input": "2022-03-21T11:05:34.536528Z",
     "iopub.status.busy": "2022-03-21T11:05:34.535891Z",
     "iopub.status.idle": "2022-03-21T11:05:34.545697Z",
     "shell.execute_reply": "2022-03-21T11:05:34.546180Z",
     "shell.execute_reply.started": "2022-03-21T11:00:59.244908Z"
    },
    "papermill": {
     "duration": 0.052427,
     "end_time": "2022-03-21T11:05:34.546351",
     "exception": false,
     "start_time": "2022-03-21T11:05:34.493924",
     "status": "completed"
    },
    "tags": []
   },
   "outputs": [],
   "source": [
    "comb = pd.concat((raw_train_drop, raw_test_drop), axis=0)\n",
    "\n",
    "age_mean = comb[\"Age\"].mean()\n",
    "raw_train_drop[\"Age\"].replace(np.nan, age_mean, inplace=True)\n",
    "raw_test_drop[\"Age\"].replace(np.nan, age_mean, inplace=True)\n",
    "\n",
    "fare_mean = comb[\"Fare\"].mean()\n",
    "raw_test_drop[\"Fare\"].replace(np.nan, fare_mean, inplace=True)"
   ]
  },
  {
   "cell_type": "markdown",
   "id": "0549f2e3",
   "metadata": {
    "papermill": {
     "duration": 0.038705,
     "end_time": "2022-03-21T11:05:34.624047",
     "exception": false,
     "start_time": "2022-03-21T11:05:34.585342",
     "status": "completed"
    },
    "tags": []
   },
   "source": [
    "**Dropped Unnecssary Column**"
   ]
  },
  {
   "cell_type": "code",
   "execution_count": 11,
   "id": "9dc55405",
   "metadata": {
    "execution": {
     "iopub.execute_input": "2022-03-21T11:05:34.704897Z",
     "iopub.status.busy": "2022-03-21T11:05:34.704274Z",
     "iopub.status.idle": "2022-03-21T11:05:34.719284Z",
     "shell.execute_reply": "2022-03-21T11:05:34.719805Z",
     "shell.execute_reply.started": "2022-03-21T11:00:59.265221Z"
    },
    "papermill": {
     "duration": 0.057051,
     "end_time": "2022-03-21T11:05:34.719989",
     "exception": false,
     "start_time": "2022-03-21T11:05:34.662938",
     "status": "completed"
    },
    "tags": []
   },
   "outputs": [
    {
     "data": {
      "text/html": [
       "<div>\n",
       "<style scoped>\n",
       "    .dataframe tbody tr th:only-of-type {\n",
       "        vertical-align: middle;\n",
       "    }\n",
       "\n",
       "    .dataframe tbody tr th {\n",
       "        vertical-align: top;\n",
       "    }\n",
       "\n",
       "    .dataframe thead th {\n",
       "        text-align: right;\n",
       "    }\n",
       "</style>\n",
       "<table border=\"1\" class=\"dataframe\">\n",
       "  <thead>\n",
       "    <tr style=\"text-align: right;\">\n",
       "      <th></th>\n",
       "      <th>PassengerId</th>\n",
       "      <th>Survived</th>\n",
       "      <th>Pclass</th>\n",
       "      <th>Sex</th>\n",
       "      <th>Age</th>\n",
       "      <th>SibSp</th>\n",
       "      <th>Parch</th>\n",
       "      <th>Fare</th>\n",
       "      <th>Embarked</th>\n",
       "      <th>Floor Code</th>\n",
       "    </tr>\n",
       "  </thead>\n",
       "  <tbody>\n",
       "    <tr>\n",
       "      <th>0</th>\n",
       "      <td>1</td>\n",
       "      <td>0</td>\n",
       "      <td>3</td>\n",
       "      <td>male</td>\n",
       "      <td>22.0</td>\n",
       "      <td>1</td>\n",
       "      <td>0</td>\n",
       "      <td>7.2500</td>\n",
       "      <td>S</td>\n",
       "      <td>0</td>\n",
       "    </tr>\n",
       "    <tr>\n",
       "      <th>1</th>\n",
       "      <td>2</td>\n",
       "      <td>1</td>\n",
       "      <td>1</td>\n",
       "      <td>female</td>\n",
       "      <td>38.0</td>\n",
       "      <td>1</td>\n",
       "      <td>0</td>\n",
       "      <td>71.2833</td>\n",
       "      <td>C</td>\n",
       "      <td>C</td>\n",
       "    </tr>\n",
       "    <tr>\n",
       "      <th>2</th>\n",
       "      <td>3</td>\n",
       "      <td>1</td>\n",
       "      <td>3</td>\n",
       "      <td>female</td>\n",
       "      <td>26.0</td>\n",
       "      <td>0</td>\n",
       "      <td>0</td>\n",
       "      <td>7.9250</td>\n",
       "      <td>S</td>\n",
       "      <td>0</td>\n",
       "    </tr>\n",
       "    <tr>\n",
       "      <th>3</th>\n",
       "      <td>4</td>\n",
       "      <td>1</td>\n",
       "      <td>1</td>\n",
       "      <td>female</td>\n",
       "      <td>35.0</td>\n",
       "      <td>1</td>\n",
       "      <td>0</td>\n",
       "      <td>53.1000</td>\n",
       "      <td>S</td>\n",
       "      <td>C</td>\n",
       "    </tr>\n",
       "    <tr>\n",
       "      <th>4</th>\n",
       "      <td>5</td>\n",
       "      <td>0</td>\n",
       "      <td>3</td>\n",
       "      <td>male</td>\n",
       "      <td>35.0</td>\n",
       "      <td>0</td>\n",
       "      <td>0</td>\n",
       "      <td>8.0500</td>\n",
       "      <td>S</td>\n",
       "      <td>0</td>\n",
       "    </tr>\n",
       "  </tbody>\n",
       "</table>\n",
       "</div>"
      ],
      "text/plain": [
       "   PassengerId  Survived  Pclass     Sex   Age  SibSp  Parch     Fare  \\\n",
       "0            1         0       3    male  22.0      1      0   7.2500   \n",
       "1            2         1       1  female  38.0      1      0  71.2833   \n",
       "2            3         1       3  female  26.0      0      0   7.9250   \n",
       "3            4         1       1  female  35.0      1      0  53.1000   \n",
       "4            5         0       3    male  35.0      0      0   8.0500   \n",
       "\n",
       "  Embarked Floor Code  \n",
       "0        S          0  \n",
       "1        C          C  \n",
       "2        S          0  \n",
       "3        S          C  \n",
       "4        S          0  "
      ]
     },
     "execution_count": 11,
     "metadata": {},
     "output_type": "execute_result"
    }
   ],
   "source": [
    "cols_to_drop = [\"Name\",\"Ticket\",\"Cabin\"]\n",
    "raw_train_drop.drop(columns=cols_to_drop,inplace=True)\n",
    "raw_test_drop.drop(columns=cols_to_drop,inplace=True)\n",
    "\n",
    "raw_train_drop.head()"
   ]
  },
  {
   "cell_type": "markdown",
   "id": "3b5c359a",
   "metadata": {
    "papermill": {
     "duration": 0.039103,
     "end_time": "2022-03-21T11:05:34.798579",
     "exception": false,
     "start_time": "2022-03-21T11:05:34.759476",
     "status": "completed"
    },
    "tags": []
   },
   "source": [
    "**Replacing Sex, Embarked and Floor Code Columns with numbers**"
   ]
  },
  {
   "cell_type": "markdown",
   "id": "3df623ef",
   "metadata": {
    "papermill": {
     "duration": 0.039273,
     "end_time": "2022-03-21T11:05:34.877319",
     "exception": false,
     "start_time": "2022-03-21T11:05:34.838046",
     "status": "completed"
    },
    "tags": []
   },
   "source": []
  },
  {
   "cell_type": "code",
   "execution_count": 12,
   "id": "b3ef8b0d",
   "metadata": {
    "execution": {
     "iopub.execute_input": "2022-03-21T11:05:34.963778Z",
     "iopub.status.busy": "2022-03-21T11:05:34.963060Z",
     "iopub.status.idle": "2022-03-21T11:05:34.972532Z",
     "shell.execute_reply": "2022-03-21T11:05:34.972999Z",
     "shell.execute_reply.started": "2022-03-21T11:00:59.291211Z"
    },
    "papermill": {
     "duration": 0.056538,
     "end_time": "2022-03-21T11:05:34.973182",
     "exception": false,
     "start_time": "2022-03-21T11:05:34.916644",
     "status": "completed"
    },
    "tags": []
   },
   "outputs": [],
   "source": [
    "columns_encode = {}\n",
    "columns_encode[\"Sex\"] = [[\"male\",\"female\"],[0,1]]\n",
    "columns_encode[\"Embarked\"] = [[\"S\",\"C\",\"Q\"],[0,1,2]]\n",
    "columns_encode[\"Floor Code\"] = [[\"A\",\"B\",\"C\",\"D\",\"E\",\"F\",\"G\",\"T\"],[1,2,3,4,5,6,7,8]]\n",
    "\n",
    "columns = [\"Sex\",\"Embarked\",\"Floor Code\"]\n",
    "\n",
    "for column in columns:\n",
    "    raw_train_drop[column].replace(columns_encode[column][0], columns_encode[column][1], inplace=True)\n",
    "    raw_test_drop[column].replace(columns_encode[column][0], columns_encode[column][1], inplace=True)"
   ]
  },
  {
   "cell_type": "code",
   "execution_count": 13,
   "id": "f95d0f84",
   "metadata": {
    "execution": {
     "iopub.execute_input": "2022-03-21T11:05:35.058213Z",
     "iopub.status.busy": "2022-03-21T11:05:35.057569Z",
     "iopub.status.idle": "2022-03-21T11:05:35.066620Z",
     "shell.execute_reply": "2022-03-21T11:05:35.067026Z",
     "shell.execute_reply.started": "2022-03-21T11:00:59.311546Z"
    },
    "papermill": {
     "duration": 0.053979,
     "end_time": "2022-03-21T11:05:35.067192",
     "exception": false,
     "start_time": "2022-03-21T11:05:35.013213",
     "status": "completed"
    },
    "tags": []
   },
   "outputs": [
    {
     "data": {
      "text/html": [
       "<div>\n",
       "<style scoped>\n",
       "    .dataframe tbody tr th:only-of-type {\n",
       "        vertical-align: middle;\n",
       "    }\n",
       "\n",
       "    .dataframe tbody tr th {\n",
       "        vertical-align: top;\n",
       "    }\n",
       "\n",
       "    .dataframe thead th {\n",
       "        text-align: right;\n",
       "    }\n",
       "</style>\n",
       "<table border=\"1\" class=\"dataframe\">\n",
       "  <thead>\n",
       "    <tr style=\"text-align: right;\">\n",
       "      <th></th>\n",
       "      <th>PassengerId</th>\n",
       "      <th>Survived</th>\n",
       "      <th>Pclass</th>\n",
       "      <th>Sex</th>\n",
       "      <th>Age</th>\n",
       "      <th>SibSp</th>\n",
       "      <th>Parch</th>\n",
       "      <th>Fare</th>\n",
       "      <th>Embarked</th>\n",
       "      <th>Floor Code</th>\n",
       "    </tr>\n",
       "  </thead>\n",
       "  <tbody>\n",
       "    <tr>\n",
       "      <th>0</th>\n",
       "      <td>1</td>\n",
       "      <td>0</td>\n",
       "      <td>3</td>\n",
       "      <td>0</td>\n",
       "      <td>22.0</td>\n",
       "      <td>1</td>\n",
       "      <td>0</td>\n",
       "      <td>7.2500</td>\n",
       "      <td>0</td>\n",
       "      <td>0</td>\n",
       "    </tr>\n",
       "    <tr>\n",
       "      <th>1</th>\n",
       "      <td>2</td>\n",
       "      <td>1</td>\n",
       "      <td>1</td>\n",
       "      <td>1</td>\n",
       "      <td>38.0</td>\n",
       "      <td>1</td>\n",
       "      <td>0</td>\n",
       "      <td>71.2833</td>\n",
       "      <td>1</td>\n",
       "      <td>3</td>\n",
       "    </tr>\n",
       "    <tr>\n",
       "      <th>2</th>\n",
       "      <td>3</td>\n",
       "      <td>1</td>\n",
       "      <td>3</td>\n",
       "      <td>1</td>\n",
       "      <td>26.0</td>\n",
       "      <td>0</td>\n",
       "      <td>0</td>\n",
       "      <td>7.9250</td>\n",
       "      <td>0</td>\n",
       "      <td>0</td>\n",
       "    </tr>\n",
       "    <tr>\n",
       "      <th>3</th>\n",
       "      <td>4</td>\n",
       "      <td>1</td>\n",
       "      <td>1</td>\n",
       "      <td>1</td>\n",
       "      <td>35.0</td>\n",
       "      <td>1</td>\n",
       "      <td>0</td>\n",
       "      <td>53.1000</td>\n",
       "      <td>0</td>\n",
       "      <td>3</td>\n",
       "    </tr>\n",
       "    <tr>\n",
       "      <th>4</th>\n",
       "      <td>5</td>\n",
       "      <td>0</td>\n",
       "      <td>3</td>\n",
       "      <td>0</td>\n",
       "      <td>35.0</td>\n",
       "      <td>0</td>\n",
       "      <td>0</td>\n",
       "      <td>8.0500</td>\n",
       "      <td>0</td>\n",
       "      <td>0</td>\n",
       "    </tr>\n",
       "  </tbody>\n",
       "</table>\n",
       "</div>"
      ],
      "text/plain": [
       "   PassengerId  Survived  Pclass  Sex   Age  SibSp  Parch     Fare  Embarked  \\\n",
       "0            1         0       3    0  22.0      1      0   7.2500         0   \n",
       "1            2         1       1    1  38.0      1      0  71.2833         1   \n",
       "2            3         1       3    1  26.0      0      0   7.9250         0   \n",
       "3            4         1       1    1  35.0      1      0  53.1000         0   \n",
       "4            5         0       3    0  35.0      0      0   8.0500         0   \n",
       "\n",
       "   Floor Code  \n",
       "0           0  \n",
       "1           3  \n",
       "2           0  \n",
       "3           3  \n",
       "4           0  "
      ]
     },
     "execution_count": 13,
     "metadata": {},
     "output_type": "execute_result"
    }
   ],
   "source": [
    "raw_train_drop.head()"
   ]
  },
  {
   "cell_type": "code",
   "execution_count": 14,
   "id": "dfa50445",
   "metadata": {
    "execution": {
     "iopub.execute_input": "2022-03-21T11:05:35.161505Z",
     "iopub.status.busy": "2022-03-21T11:05:35.152117Z",
     "iopub.status.idle": "2022-03-21T11:05:35.461236Z",
     "shell.execute_reply": "2022-03-21T11:05:35.460710Z",
     "shell.execute_reply.started": "2022-03-21T11:00:59.342635Z"
    },
    "papermill": {
     "duration": 0.354254,
     "end_time": "2022-03-21T11:05:35.461378",
     "exception": false,
     "start_time": "2022-03-21T11:05:35.107124",
     "status": "completed"
    },
    "tags": []
   },
   "outputs": [
    {
     "data": {
      "image/png": "[encoded data removed]",
      "text/plain": [
       "<Figure size 720x360 with 2 Axes>"
      ]
     },
     "metadata": {
      "needs_background": "light"
     },
     "output_type": "display_data"
    }
   ],
   "source": [
    "pd_all_data = pd.concat((raw_train_drop, raw_test_drop), axis=0)\n",
    "fig, axes = plt.subplots(1,2,figsize=(10,5))\n",
    "sns.boxplot(data=pd_all_data, x=\"Age\", ax=axes[0])\n",
    "sns.boxplot(data=pd_all_data, x=\"Fare\", ax=axes[1])\n",
    "plt.tight_layout()\n",
    "plt.show()"
   ]
  },
  {
   "cell_type": "code",
   "execution_count": 15,
   "id": "98dee84b",
   "metadata": {
    "execution": {
     "iopub.execute_input": "2022-03-21T11:05:35.549362Z",
     "iopub.status.busy": "2022-03-21T11:05:35.548362Z",
     "iopub.status.idle": "2022-03-21T11:05:35.750180Z",
     "shell.execute_reply": "2022-03-21T11:05:35.750635Z",
     "shell.execute_reply.started": "2022-03-21T11:00:59.590127Z"
    },
    "papermill": {
     "duration": 0.248058,
     "end_time": "2022-03-21T11:05:35.750822",
     "exception": false,
     "start_time": "2022-03-21T11:05:35.502764",
     "status": "completed"
    },
    "tags": []
   },
   "outputs": [
    {
     "data": {
      "image/png": "[encoded data removed]",
      "text/plain": [
       "<Figure size 432x288 with 1 Axes>"
      ]
     },
     "metadata": {
      "needs_background": "light"
     },
     "output_type": "display_data"
    }
   ],
   "source": [
    "sns.scatterplot(data=pd_all_data, x=\"Floor Code\", y=\"Fare\")\n",
    "plt.show()"
   ]
  },
  {
   "cell_type": "code",
   "execution_count": 16,
   "id": "58d6f935",
   "metadata": {
    "execution": {
     "iopub.execute_input": "2022-03-21T11:05:35.843110Z",
     "iopub.status.busy": "2022-03-21T11:05:35.842099Z",
     "iopub.status.idle": "2022-03-21T11:05:36.210755Z",
     "shell.execute_reply": "2022-03-21T11:05:36.211167Z",
     "shell.execute_reply.started": "2022-03-21T11:00:59.764711Z"
    },
    "papermill": {
     "duration": 0.419106,
     "end_time": "2022-03-21T11:05:36.211337",
     "exception": false,
     "start_time": "2022-03-21T11:05:35.792231",
     "status": "completed"
    },
    "tags": []
   },
   "outputs": [
    {
     "data": {
      "image/png": "[encoded data removed]",
      "text/plain": [
       "<Figure size 720x360 with 2 Axes>"
      ]
     },
     "metadata": {
      "needs_background": "light"
     },
     "output_type": "display_data"
    }
   ],
   "source": [
    "fig, axes = plt.subplots(1,2,figsize=(10,5))\n",
    "sns.scatterplot(data=pd_all_data, x=\"Age\", y=\"Survived\", ax=axes[0])\n",
    "sns.scatterplot(data=pd_all_data, x=\"Fare\", y=\"Survived\", ax=axes[1])\n",
    "plt.tight_layout()\n",
    "plt.show()"
   ]
  },
  {
   "cell_type": "code",
   "execution_count": 17,
   "id": "40b5f005",
   "metadata": {
    "execution": {
     "iopub.execute_input": "2022-03-21T11:05:36.300128Z",
     "iopub.status.busy": "2022-03-21T11:05:36.299195Z",
     "iopub.status.idle": "2022-03-21T11:05:36.318375Z",
     "shell.execute_reply": "2022-03-21T11:05:36.318860Z",
     "shell.execute_reply.started": "2022-03-21T11:01:00.095531Z"
    },
    "papermill": {
     "duration": 0.06523,
     "end_time": "2022-03-21T11:05:36.319043",
     "exception": false,
     "start_time": "2022-03-21T11:05:36.253813",
     "status": "completed"
    },
    "tags": []
   },
   "outputs": [
    {
     "data": {
      "text/html": [
       "<div>\n",
       "<style scoped>\n",
       "    .dataframe tbody tr th:only-of-type {\n",
       "        vertical-align: middle;\n",
       "    }\n",
       "\n",
       "    .dataframe tbody tr th {\n",
       "        vertical-align: top;\n",
       "    }\n",
       "\n",
       "    .dataframe thead th {\n",
       "        text-align: right;\n",
       "    }\n",
       "</style>\n",
       "<table border=\"1\" class=\"dataframe\">\n",
       "  <thead>\n",
       "    <tr style=\"text-align: right;\">\n",
       "      <th></th>\n",
       "      <th>PassengerId</th>\n",
       "      <th>Survived</th>\n",
       "      <th>Pclass</th>\n",
       "      <th>Sex</th>\n",
       "      <th>Age</th>\n",
       "      <th>SibSp</th>\n",
       "      <th>Parch</th>\n",
       "      <th>Fare</th>\n",
       "      <th>Embarked</th>\n",
       "      <th>Floor Code</th>\n",
       "    </tr>\n",
       "  </thead>\n",
       "  <tbody>\n",
       "    <tr>\n",
       "      <th>PassengerId</th>\n",
       "      <td>1.000000</td>\n",
       "      <td>-0.005007</td>\n",
       "      <td>-0.038354</td>\n",
       "      <td>-0.013406</td>\n",
       "      <td>0.025731</td>\n",
       "      <td>-0.055224</td>\n",
       "      <td>0.008942</td>\n",
       "      <td>0.031416</td>\n",
       "      <td>0.040143</td>\n",
       "      <td>-0.012868</td>\n",
       "    </tr>\n",
       "    <tr>\n",
       "      <th>Survived</th>\n",
       "      <td>-0.005007</td>\n",
       "      <td>1.000000</td>\n",
       "      <td>-0.338481</td>\n",
       "      <td>0.543351</td>\n",
       "      <td>-0.070323</td>\n",
       "      <td>-0.035322</td>\n",
       "      <td>0.081629</td>\n",
       "      <td>0.257307</td>\n",
       "      <td>0.106811</td>\n",
       "      <td>0.287944</td>\n",
       "    </tr>\n",
       "    <tr>\n",
       "      <th>Pclass</th>\n",
       "      <td>-0.038354</td>\n",
       "      <td>-0.338481</td>\n",
       "      <td>1.000000</td>\n",
       "      <td>-0.124617</td>\n",
       "      <td>-0.366371</td>\n",
       "      <td>0.060832</td>\n",
       "      <td>0.018322</td>\n",
       "      <td>-0.558477</td>\n",
       "      <td>0.038875</td>\n",
       "      <td>-0.563667</td>\n",
       "    </tr>\n",
       "    <tr>\n",
       "      <th>Sex</th>\n",
       "      <td>-0.013406</td>\n",
       "      <td>0.543351</td>\n",
       "      <td>-0.124617</td>\n",
       "      <td>1.000000</td>\n",
       "      <td>-0.057397</td>\n",
       "      <td>0.109609</td>\n",
       "      <td>0.213125</td>\n",
       "      <td>0.185484</td>\n",
       "      <td>0.120423</td>\n",
       "      <td>0.133479</td>\n",
       "    </tr>\n",
       "    <tr>\n",
       "      <th>Age</th>\n",
       "      <td>0.025731</td>\n",
       "      <td>-0.070323</td>\n",
       "      <td>-0.366371</td>\n",
       "      <td>-0.057397</td>\n",
       "      <td>1.000000</td>\n",
       "      <td>-0.190747</td>\n",
       "      <td>-0.130872</td>\n",
       "      <td>0.171521</td>\n",
       "      <td>0.035824</td>\n",
       "      <td>0.192769</td>\n",
       "    </tr>\n",
       "    <tr>\n",
       "      <th>SibSp</th>\n",
       "      <td>-0.055224</td>\n",
       "      <td>-0.035322</td>\n",
       "      <td>0.060832</td>\n",
       "      <td>0.109609</td>\n",
       "      <td>-0.190747</td>\n",
       "      <td>1.000000</td>\n",
       "      <td>0.373587</td>\n",
       "      <td>0.160224</td>\n",
       "      <td>-0.073461</td>\n",
       "      <td>-0.009317</td>\n",
       "    </tr>\n",
       "    <tr>\n",
       "      <th>Parch</th>\n",
       "      <td>0.008942</td>\n",
       "      <td>0.081629</td>\n",
       "      <td>0.018322</td>\n",
       "      <td>0.213125</td>\n",
       "      <td>-0.130872</td>\n",
       "      <td>0.373587</td>\n",
       "      <td>1.000000</td>\n",
       "      <td>0.221522</td>\n",
       "      <td>-0.095523</td>\n",
       "      <td>0.034465</td>\n",
       "    </tr>\n",
       "    <tr>\n",
       "      <th>Fare</th>\n",
       "      <td>0.031416</td>\n",
       "      <td>0.257307</td>\n",
       "      <td>-0.558477</td>\n",
       "      <td>0.185484</td>\n",
       "      <td>0.171521</td>\n",
       "      <td>0.160224</td>\n",
       "      <td>0.221522</td>\n",
       "      <td>1.000000</td>\n",
       "      <td>0.061118</td>\n",
       "      <td>0.360962</td>\n",
       "    </tr>\n",
       "    <tr>\n",
       "      <th>Embarked</th>\n",
       "      <td>0.040143</td>\n",
       "      <td>0.106811</td>\n",
       "      <td>0.038875</td>\n",
       "      <td>0.120423</td>\n",
       "      <td>0.035824</td>\n",
       "      <td>-0.073461</td>\n",
       "      <td>-0.095523</td>\n",
       "      <td>0.061118</td>\n",
       "      <td>1.000000</td>\n",
       "      <td>-0.000030</td>\n",
       "    </tr>\n",
       "    <tr>\n",
       "      <th>Floor Code</th>\n",
       "      <td>-0.012868</td>\n",
       "      <td>0.287944</td>\n",
       "      <td>-0.563667</td>\n",
       "      <td>0.133479</td>\n",
       "      <td>0.192769</td>\n",
       "      <td>-0.009317</td>\n",
       "      <td>0.034465</td>\n",
       "      <td>0.360962</td>\n",
       "      <td>-0.000030</td>\n",
       "      <td>1.000000</td>\n",
       "    </tr>\n",
       "  </tbody>\n",
       "</table>\n",
       "</div>"
      ],
      "text/plain": [
       "             PassengerId  Survived    Pclass       Sex       Age     SibSp  \\\n",
       "PassengerId     1.000000 -0.005007 -0.038354 -0.013406  0.025731 -0.055224   \n",
       "Survived       -0.005007  1.000000 -0.338481  0.543351 -0.070323 -0.035322   \n",
       "Pclass         -0.038354 -0.338481  1.000000 -0.124617 -0.366371  0.060832   \n",
       "Sex            -0.013406  0.543351 -0.124617  1.000000 -0.057397  0.109609   \n",
       "Age             0.025731 -0.070323 -0.366371 -0.057397  1.000000 -0.190747   \n",
       "SibSp          -0.055224 -0.035322  0.060832  0.109609 -0.190747  1.000000   \n",
       "Parch           0.008942  0.081629  0.018322  0.213125 -0.130872  0.373587   \n",
       "Fare            0.031416  0.257307 -0.558477  0.185484  0.171521  0.160224   \n",
       "Embarked        0.040143  0.106811  0.038875  0.120423  0.035824 -0.073461   \n",
       "Floor Code     -0.012868  0.287944 -0.563667  0.133479  0.192769 -0.009317   \n",
       "\n",
       "                Parch      Fare  Embarked  Floor Code  \n",
       "PassengerId  0.008942  0.031416  0.040143   -0.012868  \n",
       "Survived     0.081629  0.257307  0.106811    0.287944  \n",
       "Pclass       0.018322 -0.558477  0.038875   -0.563667  \n",
       "Sex          0.213125  0.185484  0.120423    0.133479  \n",
       "Age         -0.130872  0.171521  0.035824    0.192769  \n",
       "SibSp        0.373587  0.160224 -0.073461   -0.009317  \n",
       "Parch        1.000000  0.221522 -0.095523    0.034465  \n",
       "Fare         0.221522  1.000000  0.061118    0.360962  \n",
       "Embarked    -0.095523  0.061118  1.000000   -0.000030  \n",
       "Floor Code   0.034465  0.360962 -0.000030    1.000000  "
      ]
     },
     "execution_count": 17,
     "metadata": {},
     "output_type": "execute_result"
    }
   ],
   "source": [
    "pd_all_data.corr()"
   ]
  },
  {
   "cell_type": "code",
   "execution_count": 18,
   "id": "4f75d829",
   "metadata": {
    "execution": {
     "iopub.execute_input": "2022-03-21T11:05:36.408851Z",
     "iopub.status.busy": "2022-03-21T11:05:36.407919Z",
     "iopub.status.idle": "2022-03-21T11:05:36.416956Z",
     "shell.execute_reply": "2022-03-21T11:05:36.417460Z",
     "shell.execute_reply.started": "2022-03-21T11:01:00.120735Z"
    },
    "papermill": {
     "duration": 0.055724,
     "end_time": "2022-03-21T11:05:36.417661",
     "exception": false,
     "start_time": "2022-03-21T11:05:36.361937",
     "status": "completed"
    },
    "tags": []
   },
   "outputs": [
    {
     "data": {
      "text/plain": [
       "Index(['PassengerId', 'Age', 'SibSp', 'Parch', 'Embarked'], dtype='object')"
      ]
     },
     "execution_count": 18,
     "metadata": {},
     "output_type": "execute_result"
    }
   ],
   "source": [
    "treshold_corr = 0.2\n",
    "corr = pd_all_data.corr()['Survived']\n",
    "corr[(corr < treshold_corr) & (corr > -treshold_corr)].index"
   ]
  },
  {
   "cell_type": "markdown",
   "id": "9f4e1127",
   "metadata": {
    "papermill": {
     "duration": 0.043091,
     "end_time": "2022-03-21T11:05:36.506559",
     "exception": false,
     "start_time": "2022-03-21T11:05:36.463468",
     "status": "completed"
    },
    "tags": []
   },
   "source": [
    "**Dropping columns that does not pass the 0.2 treshold**"
   ]
  },
  {
   "cell_type": "code",
   "execution_count": 19,
   "id": "dd462fbd",
   "metadata": {
    "execution": {
     "iopub.execute_input": "2022-03-21T11:05:36.597781Z",
     "iopub.status.busy": "2022-03-21T11:05:36.596811Z",
     "iopub.status.idle": "2022-03-21T11:05:36.610572Z",
     "shell.execute_reply": "2022-03-21T11:05:36.611111Z",
     "shell.execute_reply.started": "2022-03-21T11:01:00.135534Z"
    },
    "papermill": {
     "duration": 0.061635,
     "end_time": "2022-03-21T11:05:36.611271",
     "exception": false,
     "start_time": "2022-03-21T11:05:36.549636",
     "status": "completed"
    },
    "tags": []
   },
   "outputs": [
    {
     "data": {
      "text/html": [
       "<div>\n",
       "<style scoped>\n",
       "    .dataframe tbody tr th:only-of-type {\n",
       "        vertical-align: middle;\n",
       "    }\n",
       "\n",
       "    .dataframe tbody tr th {\n",
       "        vertical-align: top;\n",
       "    }\n",
       "\n",
       "    .dataframe thead th {\n",
       "        text-align: right;\n",
       "    }\n",
       "</style>\n",
       "<table border=\"1\" class=\"dataframe\">\n",
       "  <thead>\n",
       "    <tr style=\"text-align: right;\">\n",
       "      <th></th>\n",
       "      <th>Survived</th>\n",
       "      <th>Pclass</th>\n",
       "      <th>Sex</th>\n",
       "      <th>Fare</th>\n",
       "      <th>Floor Code</th>\n",
       "    </tr>\n",
       "  </thead>\n",
       "  <tbody>\n",
       "    <tr>\n",
       "      <th>0</th>\n",
       "      <td>0</td>\n",
       "      <td>3</td>\n",
       "      <td>0</td>\n",
       "      <td>7.2500</td>\n",
       "      <td>0</td>\n",
       "    </tr>\n",
       "    <tr>\n",
       "      <th>1</th>\n",
       "      <td>1</td>\n",
       "      <td>1</td>\n",
       "      <td>1</td>\n",
       "      <td>71.2833</td>\n",
       "      <td>3</td>\n",
       "    </tr>\n",
       "    <tr>\n",
       "      <th>2</th>\n",
       "      <td>1</td>\n",
       "      <td>3</td>\n",
       "      <td>1</td>\n",
       "      <td>7.9250</td>\n",
       "      <td>0</td>\n",
       "    </tr>\n",
       "    <tr>\n",
       "      <th>3</th>\n",
       "      <td>1</td>\n",
       "      <td>1</td>\n",
       "      <td>1</td>\n",
       "      <td>53.1000</td>\n",
       "      <td>3</td>\n",
       "    </tr>\n",
       "    <tr>\n",
       "      <th>4</th>\n",
       "      <td>0</td>\n",
       "      <td>3</td>\n",
       "      <td>0</td>\n",
       "      <td>8.0500</td>\n",
       "      <td>0</td>\n",
       "    </tr>\n",
       "  </tbody>\n",
       "</table>\n",
       "</div>"
      ],
      "text/plain": [
       "   Survived  Pclass  Sex     Fare  Floor Code\n",
       "0         0       3    0   7.2500           0\n",
       "1         1       1    1  71.2833           3\n",
       "2         1       3    1   7.9250           0\n",
       "3         1       1    1  53.1000           3\n",
       "4         0       3    0   8.0500           0"
      ]
     },
     "execution_count": 19,
     "metadata": {},
     "output_type": "execute_result"
    }
   ],
   "source": [
    "cols_to_drop = corr[(corr < treshold_corr) & (corr > -treshold_corr)].index\n",
    "raw_train_drop.drop(columns=cols_to_drop,inplace=True)\n",
    "raw_test_drop.drop(columns=cols_to_drop,inplace=True)\n",
    "\n",
    "raw_train_drop.head()"
   ]
  },
  {
   "cell_type": "markdown",
   "id": "e34a25fa",
   "metadata": {
    "execution": {
     "iopub.execute_input": "2022-03-19T15:03:39.152045Z",
     "iopub.status.busy": "2022-03-19T15:03:39.151777Z",
     "iopub.status.idle": "2022-03-19T15:03:39.166013Z",
     "shell.execute_reply": "2022-03-19T15:03:39.165087Z",
     "shell.execute_reply.started": "2022-03-19T15:03:39.152017Z"
    },
    "papermill": {
     "duration": 0.04285,
     "end_time": "2022-03-21T11:05:36.697735",
     "exception": false,
     "start_time": "2022-03-21T11:05:36.654885",
     "status": "completed"
    },
    "tags": []
   },
   "source": [
    "**Applying one hot encoding to the categorical nominal variables and standard scaler to numeric data**"
   ]
  },
  {
   "cell_type": "code",
   "execution_count": 20,
   "id": "7d668333",
   "metadata": {
    "execution": {
     "iopub.execute_input": "2022-03-21T11:05:36.788333Z",
     "iopub.status.busy": "2022-03-21T11:05:36.787400Z",
     "iopub.status.idle": "2022-03-21T11:05:36.942818Z",
     "shell.execute_reply": "2022-03-21T11:05:36.942134Z",
     "shell.execute_reply.started": "2022-03-21T11:01:00.154755Z"
    },
    "papermill": {
     "duration": 0.201886,
     "end_time": "2022-03-21T11:05:36.942977",
     "exception": false,
     "start_time": "2022-03-21T11:05:36.741091",
     "status": "completed"
    },
    "tags": []
   },
   "outputs": [],
   "source": [
    "from sklearn import preprocessing\n",
    "from sklearn.preprocessing import StandardScaler\n",
    "from sklearn.preprocessing import OneHotEncoder"
   ]
  },
  {
   "cell_type": "code",
   "execution_count": 21,
   "id": "fa71f1de",
   "metadata": {
    "execution": {
     "iopub.execute_input": "2022-03-21T11:05:37.038099Z",
     "iopub.status.busy": "2022-03-21T11:05:37.037359Z",
     "iopub.status.idle": "2022-03-21T11:05:37.040305Z",
     "shell.execute_reply": "2022-03-21T11:05:37.040754Z",
     "shell.execute_reply.started": "2022-03-21T11:01:00.160032Z"
    },
    "papermill": {
     "duration": 0.053402,
     "end_time": "2022-03-21T11:05:37.040929",
     "exception": false,
     "start_time": "2022-03-21T11:05:36.987527",
     "status": "completed"
    },
    "tags": []
   },
   "outputs": [
    {
     "data": {
      "text/plain": [
       "Index(['Survived', 'Pclass', 'Sex', 'Fare', 'Floor Code'], dtype='object')"
      ]
     },
     "execution_count": 21,
     "metadata": {},
     "output_type": "execute_result"
    }
   ],
   "source": [
    "raw_train_drop.columns"
   ]
  },
  {
   "cell_type": "code",
   "execution_count": 22,
   "id": "4c40b1da",
   "metadata": {
    "execution": {
     "iopub.execute_input": "2022-03-21T11:05:37.138301Z",
     "iopub.status.busy": "2022-03-21T11:05:37.137051Z",
     "iopub.status.idle": "2022-03-21T11:05:37.146648Z",
     "shell.execute_reply": "2022-03-21T11:05:37.147106Z",
     "shell.execute_reply.started": "2022-03-21T11:01:00.176137Z"
    },
    "papermill": {
     "duration": 0.062605,
     "end_time": "2022-03-21T11:05:37.147267",
     "exception": false,
     "start_time": "2022-03-21T11:05:37.084662",
     "status": "completed"
    },
    "tags": []
   },
   "outputs": [
    {
     "data": {
      "text/plain": [
       "StandardScaler()"
      ]
     },
     "execution_count": 22,
     "metadata": {},
     "output_type": "execute_result"
    }
   ],
   "source": [
    "onehot = OneHotEncoder()\n",
    "scaler = StandardScaler()\n",
    "\n",
    "nominal_cols = ['Pclass','Sex','Floor Code']\n",
    "other_cols = ['Fare']\n",
    "\n",
    "pd_all_data = pd.concat((raw_train_drop, raw_test_drop), axis=0)\n",
    "\n",
    "onehot.fit(pd_all_data[nominal_cols])\n",
    "scaler.fit(pd_all_data[other_cols])"
   ]
  },
  {
   "cell_type": "code",
   "execution_count": 23,
   "id": "1377a82f",
   "metadata": {
    "execution": {
     "iopub.execute_input": "2022-03-21T11:05:37.243432Z",
     "iopub.status.busy": "2022-03-21T11:05:37.238853Z",
     "iopub.status.idle": "2022-03-21T11:05:37.246104Z",
     "shell.execute_reply": "2022-03-21T11:05:37.246609Z",
     "shell.execute_reply.started": "2022-03-21T11:01:00.196709Z"
    },
    "papermill": {
     "duration": 0.054882,
     "end_time": "2022-03-21T11:05:37.246787",
     "exception": false,
     "start_time": "2022-03-21T11:05:37.191905",
     "status": "completed"
    },
    "tags": []
   },
   "outputs": [
    {
     "data": {
      "text/plain": [
       "Pclass        0\n",
       "Sex           0\n",
       "Fare          0\n",
       "Floor Code    0\n",
       "dtype: int64"
      ]
     },
     "execution_count": 23,
     "metadata": {},
     "output_type": "execute_result"
    }
   ],
   "source": [
    "raw_test_drop.isna().sum()"
   ]
  },
  {
   "cell_type": "code",
   "execution_count": 24,
   "id": "6e655227",
   "metadata": {
    "execution": {
     "iopub.execute_input": "2022-03-21T11:05:37.339372Z",
     "iopub.status.busy": "2022-03-21T11:05:37.338789Z",
     "iopub.status.idle": "2022-03-21T11:05:37.344415Z",
     "shell.execute_reply": "2022-03-21T11:05:37.344993Z",
     "shell.execute_reply.started": "2022-03-21T11:01:00.208757Z"
    },
    "papermill": {
     "duration": 0.053893,
     "end_time": "2022-03-21T11:05:37.345168",
     "exception": false,
     "start_time": "2022-03-21T11:05:37.291275",
     "status": "completed"
    },
    "tags": []
   },
   "outputs": [],
   "source": [
    "def get_selected_data(pd_data):\n",
    "    nominal_col_feature = onehot.transform(pd_data[nominal_cols]).toarray()\n",
    "    other_col_feature = scaler.transform(pd_data[other_cols])\n",
    "    x = np.concatenate((nominal_col_feature,  other_col_feature),axis=1)\n",
    "    y = raw_train_drop[\"Survived\"]\n",
    "    return x,y"
   ]
  },
  {
   "cell_type": "code",
   "execution_count": 25,
   "id": "8114c83e",
   "metadata": {
    "execution": {
     "iopub.execute_input": "2022-03-21T11:05:37.439164Z",
     "iopub.status.busy": "2022-03-21T11:05:37.438221Z",
     "iopub.status.idle": "2022-03-21T11:05:37.489984Z",
     "shell.execute_reply": "2022-03-21T11:05:37.490527Z",
     "shell.execute_reply.started": "2022-03-21T11:01:00.220388Z"
    },
    "papermill": {
     "duration": 0.09965,
     "end_time": "2022-03-21T11:05:37.490742",
     "exception": false,
     "start_time": "2022-03-21T11:05:37.391092",
     "status": "completed"
    },
    "tags": []
   },
   "outputs": [],
   "source": [
    "from sklearn.model_selection import train_test_split"
   ]
  },
  {
   "cell_type": "code",
   "execution_count": 26,
   "id": "f0b8e031",
   "metadata": {
    "execution": {
     "iopub.execute_input": "2022-03-21T11:05:37.586097Z",
     "iopub.status.busy": "2022-03-21T11:05:37.585101Z",
     "iopub.status.idle": "2022-03-21T11:05:37.599319Z",
     "shell.execute_reply": "2022-03-21T11:05:37.599882Z",
     "shell.execute_reply.started": "2022-03-21T11:01:00.236551Z"
    },
    "papermill": {
     "duration": 0.06345,
     "end_time": "2022-03-21T11:05:37.600059",
     "exception": false,
     "start_time": "2022-03-21T11:05:37.536609",
     "status": "completed"
    },
    "tags": []
   },
   "outputs": [],
   "source": [
    "x_train,y_train = get_selected_data(raw_train_drop)\n",
    "x_test,_ = get_selected_data(raw_test_drop)\n",
    "\n",
    "x_train_split, x_val_split, y_train_split, y_val_split = train_test_split(x_train, y_train, test_size=0.2, random_state=5)"
   ]
  },
  {
   "cell_type": "code",
   "execution_count": 27,
   "id": "a52ac194",
   "metadata": {
    "execution": {
     "iopub.execute_input": "2022-03-21T11:05:37.695128Z",
     "iopub.status.busy": "2022-03-21T11:05:37.694094Z",
     "iopub.status.idle": "2022-03-21T11:05:37.873555Z",
     "shell.execute_reply": "2022-03-21T11:05:37.873021Z",
     "shell.execute_reply.started": "2022-03-21T11:01:00.262097Z"
    },
    "papermill": {
     "duration": 0.228261,
     "end_time": "2022-03-21T11:05:37.873695",
     "exception": false,
     "start_time": "2022-03-21T11:05:37.645434",
     "status": "completed"
    },
    "tags": []
   },
   "outputs": [],
   "source": [
    "from sklearn.model_selection import GridSearchCV\n",
    "# Logistic Regression classification algorithm\n",
    "from sklearn.linear_model import LogisticRegression\n",
    "# Support Vector Machine classification algorithm\n",
    "from sklearn.svm import SVC\n",
    "# Decision Tree classification algorithm\n",
    "from sklearn.tree import DecisionTreeClassifier\n",
    "# K Nearest Neighbors classification algorithm\n",
    "from sklearn.neighbors import KNeighborsClassifier\n",
    "from sklearn.metrics import jaccard_score, f1_score"
   ]
  },
  {
   "cell_type": "code",
   "execution_count": 28,
   "id": "288b71a9",
   "metadata": {
    "execution": {
     "iopub.execute_input": "2022-03-21T11:05:37.969446Z",
     "iopub.status.busy": "2022-03-21T11:05:37.968482Z",
     "iopub.status.idle": "2022-03-21T11:05:37.972933Z",
     "shell.execute_reply": "2022-03-21T11:05:37.973455Z",
     "shell.execute_reply.started": "2022-03-21T11:01:00.270054Z"
    },
    "papermill": {
     "duration": 0.053494,
     "end_time": "2022-03-21T11:05:37.973664",
     "exception": false,
     "start_time": "2022-03-21T11:05:37.920170",
     "status": "completed"
    },
    "tags": []
   },
   "outputs": [],
   "source": [
    "def checkValidation(y_valid, y_valid_pred):\n",
    "    f1_scr = f1_score(y_valid, y_valid_pred, average='weighted')\n",
    "    jc_scr = jaccard_score(y_valid, y_valid_pred,pos_label=0)\n",
    "    \n",
    "    return jc_scr, f1_scr"
   ]
  },
  {
   "cell_type": "code",
   "execution_count": 29,
   "id": "2a2b589f",
   "metadata": {
    "execution": {
     "iopub.execute_input": "2022-03-21T11:05:38.066344Z",
     "iopub.status.busy": "2022-03-21T11:05:38.065439Z",
     "iopub.status.idle": "2022-03-21T11:05:38.070906Z",
     "shell.execute_reply": "2022-03-21T11:05:38.071432Z",
     "shell.execute_reply.started": "2022-03-21T11:01:00.287132Z"
    },
    "papermill": {
     "duration": 0.053299,
     "end_time": "2022-03-21T11:05:38.071616",
     "exception": false,
     "start_time": "2022-03-21T11:05:38.018317",
     "status": "completed"
    },
    "tags": []
   },
   "outputs": [],
   "source": [
    "def plot_confusion_matrix(y,y_predict):\n",
    "    \"this function plots the confusion matrix\"\n",
    "    from sklearn.metrics import confusion_matrix\n",
    "\n",
    "    cm = confusion_matrix(y, y_predict)\n",
    "    ax= plt.subplot()\n",
    "    sns.heatmap(cm, annot=True, ax = ax); #annot=True to annotate cells\n",
    "    ax.set_xlabel('Predicted labels')\n",
    "    ax.set_ylabel('True labels')\n",
    "    ax.set_title('Confusion Matrix'); \n",
    "    ax.xaxis.set_ticklabels(['Not Survive', 'Survived']); ax.yaxis.set_ticklabels(['Not Survive', 'Survived'])"
   ]
  },
  {
   "cell_type": "code",
   "execution_count": 30,
   "id": "d021b18e",
   "metadata": {
    "execution": {
     "iopub.execute_input": "2022-03-21T11:05:38.163647Z",
     "iopub.status.busy": "2022-03-21T11:05:38.162734Z",
     "iopub.status.idle": "2022-03-21T11:05:38.166150Z",
     "shell.execute_reply": "2022-03-21T11:05:38.166700Z",
     "shell.execute_reply.started": "2022-03-21T11:01:00.298160Z"
    },
    "papermill": {
     "duration": 0.051082,
     "end_time": "2022-03-21T11:05:38.166867",
     "exception": false,
     "start_time": "2022-03-21T11:05:38.115785",
     "status": "completed"
    },
    "tags": []
   },
   "outputs": [],
   "source": [
    "summary_prediction = [];"
   ]
  },
  {
   "cell_type": "code",
   "execution_count": 31,
   "id": "f3ebbee2",
   "metadata": {
    "execution": {
     "iopub.execute_input": "2022-03-21T11:05:38.261885Z",
     "iopub.status.busy": "2022-03-21T11:05:38.260902Z",
     "iopub.status.idle": "2022-03-21T11:05:38.343585Z",
     "shell.execute_reply": "2022-03-21T11:05:38.343035Z",
     "shell.execute_reply.started": "2022-03-21T11:01:00.311899Z"
    },
    "papermill": {
     "duration": 0.130094,
     "end_time": "2022-03-21T11:05:38.343736",
     "exception": false,
     "start_time": "2022-03-21T11:05:38.213642",
     "status": "completed"
    },
    "tags": []
   },
   "outputs": [
    {
     "name": "stdout",
     "output_type": "stream",
     "text": [
      "tuned hpyerparameters :(best parameters)  {'C': 0.1, 'penalty': 'l2', 'solver': 'liblinear'}\n",
      "accuracy : 0.7808489827856027\n"
     ]
    }
   ],
   "source": [
    "parameters ={\"C\":[0.01,0.1,1],'penalty':['l2'], 'solver':['liblinear']}# l1 lasso l2 ridge\n",
    "lr=LogisticRegression()\n",
    "\n",
    "logreg_cv = GridSearchCV(lr, parameters,cv=10)\n",
    "logreg_cv.fit(x_train_split,y_train_split)\n",
    "pred = logreg_cv.predict(x_val_split)\n",
    "jc_scr, f1_scr = checkValidation(y_val_split, pred)\n",
    "summary_prediction.append(['Logistics Regression',jc_scr, f1_scr])\n",
    "print(\"tuned hpyerparameters :(best parameters) \",logreg_cv.best_params_)\n",
    "print(\"accuracy :\",logreg_cv.best_score_)"
   ]
  },
  {
   "cell_type": "code",
   "execution_count": 32,
   "id": "501818a8",
   "metadata": {
    "execution": {
     "iopub.execute_input": "2022-03-21T11:05:38.437701Z",
     "iopub.status.busy": "2022-03-21T11:05:38.436647Z",
     "iopub.status.idle": "2022-03-21T11:05:38.679493Z",
     "shell.execute_reply": "2022-03-21T11:05:38.679935Z",
     "shell.execute_reply.started": "2022-03-21T11:01:00.409704Z"
    },
    "papermill": {
     "duration": 0.291603,
     "end_time": "2022-03-21T11:05:38.680110",
     "exception": false,
     "start_time": "2022-03-21T11:05:38.388507",
     "status": "completed"
    },
    "tags": []
   },
   "outputs": [
    {
     "data": {
      "image/png": "[encoded data removed]",
      "text/plain": [
       "<Figure size 432x288 with 2 Axes>"
      ]
     },
     "metadata": {
      "needs_background": "light"
     },
     "output_type": "display_data"
    }
   ],
   "source": [
    "yhatl=logreg_cv.predict(x_val_split)\n",
    "plot_confusion_matrix(y_val_split,yhatl)"
   ]
  },
  {
   "cell_type": "code",
   "execution_count": 33,
   "id": "269f6dce",
   "metadata": {
    "execution": {
     "iopub.execute_input": "2022-03-21T11:05:38.774421Z",
     "iopub.status.busy": "2022-03-21T11:05:38.773487Z",
     "iopub.status.idle": "2022-03-21T11:05:49.961121Z",
     "shell.execute_reply": "2022-03-21T11:05:49.960660Z",
     "shell.execute_reply.started": "2022-03-21T11:01:00.630449Z"
    },
    "papermill": {
     "duration": 11.23586,
     "end_time": "2022-03-21T11:05:49.961269",
     "exception": false,
     "start_time": "2022-03-21T11:05:38.725409",
     "status": "completed"
    },
    "tags": []
   },
   "outputs": [
    {
     "name": "stdout",
     "output_type": "stream",
     "text": [
      "tuned hpyerparameters :(best parameters)  {'criterion': 'entropy', 'max_depth': 12, 'max_features': 'auto', 'min_samples_leaf': 1, 'min_samples_split': 5, 'splitter': 'random'}\n",
      "accuracy : 0.8160015649452269\n"
     ]
    }
   ],
   "source": [
    "parameters = {'criterion': ['gini', 'entropy'],\n",
    "     'splitter': ['best', 'random'],\n",
    "     'max_depth': [2*n for n in range(1,10)],\n",
    "     'max_features': ['auto', 'sqrt'],\n",
    "     'min_samples_leaf': [1, 2, 4],\n",
    "     'min_samples_split': [2, 5, 10]}\n",
    "\n",
    "tree = DecisionTreeClassifier()\n",
    "tree_cv = GridSearchCV(tree, parameters,cv=10)\n",
    "tree_cv.fit(x_train_split,y_train_split)\n",
    "pred = tree_cv.predict(x_val_split)\n",
    "jc_scr, f1_scr = checkValidation(y_val_split, pred)\n",
    "summary_prediction.append(['Decision Tree',jc_scr, f1_scr])\n",
    "print(\"tuned hpyerparameters :(best parameters) \",tree_cv.best_params_)\n",
    "print(\"accuracy :\",tree_cv.best_score_)"
   ]
  },
  {
   "cell_type": "markdown",
   "id": "4c2860a0",
   "metadata": {
    "papermill": {
     "duration": 0.047424,
     "end_time": "2022-03-21T11:05:50.055795",
     "exception": false,
     "start_time": "2022-03-21T11:05:50.008371",
     "status": "completed"
    },
    "tags": []
   },
   "source": []
  },
  {
   "cell_type": "code",
   "execution_count": 34,
   "id": "38f4698a",
   "metadata": {
    "execution": {
     "iopub.execute_input": "2022-03-21T11:05:50.153400Z",
     "iopub.status.busy": "2022-03-21T11:05:50.152782Z",
     "iopub.status.idle": "2022-03-21T11:05:50.372624Z",
     "shell.execute_reply": "2022-03-21T11:05:50.373114Z",
     "shell.execute_reply.started": "2022-03-21T11:01:12.970980Z"
    },
    "papermill": {
     "duration": 0.271272,
     "end_time": "2022-03-21T11:05:50.373287",
     "exception": false,
     "start_time": "2022-03-21T11:05:50.102015",
     "status": "completed"
    },
    "tags": []
   },
   "outputs": [
    {
     "data": {
      "image/png": "[encoded data removed]",
      "text/plain": [
       "<Figure size 432x288 with 2 Axes>"
      ]
     },
     "metadata": {
      "needs_background": "light"
     },
     "output_type": "display_data"
    }
   ],
   "source": [
    "yhatt=tree_cv.predict(x_val_split)\n",
    "plot_confusion_matrix(y_val_split,yhatt)"
   ]
  },
  {
   "cell_type": "code",
   "execution_count": 35,
   "id": "0a15cab5",
   "metadata": {
    "execution": {
     "iopub.execute_input": "2022-03-21T11:05:50.470072Z",
     "iopub.status.busy": "2022-03-21T11:05:50.469134Z",
     "iopub.status.idle": "2022-03-21T11:06:00.261400Z",
     "shell.execute_reply": "2022-03-21T11:06:00.263010Z",
     "shell.execute_reply.started": "2022-03-21T11:01:13.172008Z"
    },
    "papermill": {
     "duration": 9.843442,
     "end_time": "2022-03-21T11:06:00.263484",
     "exception": false,
     "start_time": "2022-03-21T11:05:50.420042",
     "status": "completed"
    },
    "tags": []
   },
   "outputs": [
    {
     "name": "stdout",
     "output_type": "stream",
     "text": [
      "tuned hpyerparameters :(best parameters)  {'algorithm': 'auto', 'n_neighbors': 6, 'p': 1}\n",
      "accuracy : 0.8019953051643192\n"
     ]
    }
   ],
   "source": [
    "parameters = {'n_neighbors': [n for n in range(1,20)],\n",
    "              'algorithm': ['auto', 'ball_tree', 'kd_tree', 'brute'],\n",
    "              'p': [1,2]}\n",
    "\n",
    "KNN = KNeighborsClassifier()\n",
    "knn_cv = GridSearchCV(KNN, parameters,cv=10)\n",
    "knn_cv.fit(x_train_split,y_train_split)\n",
    "pred = knn_cv.predict(x_val_split)\n",
    "jc_scr, f1_scr = checkValidation(y_val_split, pred)\n",
    "summary_prediction.append(['K Nearest Neighbor',jc_scr, f1_scr])\n",
    "print(\"tuned hpyerparameters :(best parameters) \",knn_cv.best_params_)\n",
    "print(\"accuracy :\",knn_cv.best_score_)"
   ]
  },
  {
   "cell_type": "code",
   "execution_count": 36,
   "id": "3c2b30d7",
   "metadata": {
    "execution": {
     "iopub.execute_input": "2022-03-21T11:06:00.404147Z",
     "iopub.status.busy": "2022-03-21T11:06:00.401796Z",
     "iopub.status.idle": "2022-03-21T11:06:00.632343Z",
     "shell.execute_reply": "2022-03-21T11:06:00.631748Z",
     "shell.execute_reply.started": "2022-03-21T11:01:24.082917Z"
    },
    "papermill": {
     "duration": 0.282805,
     "end_time": "2022-03-21T11:06:00.632478",
     "exception": false,
     "start_time": "2022-03-21T11:06:00.349673",
     "status": "completed"
    },
    "tags": []
   },
   "outputs": [
    {
     "data": {
      "image/png": "[encoded data removed]",
      "text/plain": [
       "<Figure size 432x288 with 2 Axes>"
      ]
     },
     "metadata": {
      "needs_background": "light"
     },
     "output_type": "display_data"
    }
   ],
   "source": [
    "yhatk=knn_cv.predict(x_val_split)\n",
    "plot_confusion_matrix(y_val_split,yhatk)"
   ]
  },
  {
   "cell_type": "code",
   "execution_count": 37,
   "id": "823f6c82",
   "metadata": {
    "execution": {
     "iopub.execute_input": "2022-03-21T11:06:00.735618Z",
     "iopub.status.busy": "2022-03-21T11:06:00.734709Z",
     "iopub.status.idle": "2022-03-21T11:06:00.762338Z",
     "shell.execute_reply": "2022-03-21T11:06:00.762828Z",
     "shell.execute_reply.started": "2022-03-21T11:01:24.318056Z"
    },
    "papermill": {
     "duration": 0.082925,
     "end_time": "2022-03-21T11:06:00.763014",
     "exception": false,
     "start_time": "2022-03-21T11:06:00.680089",
     "status": "completed"
    },
    "tags": []
   },
   "outputs": [],
   "source": [
    "svm = SVC()\n",
    "svm.fit(x_train_split,y_train_split)\n",
    "pred = svm.predict(x_val_split)\n",
    "jc_scr, f1_scr = checkValidation(y_val_split, pred)\n",
    "summary_prediction.append(['Support Vector Machine',jc_scr, f1_scr])"
   ]
  },
  {
   "cell_type": "code",
   "execution_count": 38,
   "id": "aaedbd1b",
   "metadata": {
    "execution": {
     "iopub.execute_input": "2022-03-21T11:06:00.863170Z",
     "iopub.status.busy": "2022-03-21T11:06:00.862251Z",
     "iopub.status.idle": "2022-03-21T11:06:01.106084Z",
     "shell.execute_reply": "2022-03-21T11:06:01.105634Z",
     "shell.execute_reply.started": "2022-03-21T11:01:24.350594Z"
    },
    "papermill": {
     "duration": 0.29562,
     "end_time": "2022-03-21T11:06:01.106229",
     "exception": false,
     "start_time": "2022-03-21T11:06:00.810609",
     "status": "completed"
    },
    "tags": []
   },
   "outputs": [
    {
     "data": {
      "image/png": "[encoded data removed]",
      "text/plain": [
       "<Figure size 432x288 with 2 Axes>"
      ]
     },
     "metadata": {
      "needs_background": "light"
     },
     "output_type": "display_data"
    }
   ],
   "source": [
    "yhats=svm.predict(x_val_split)\n",
    "plot_confusion_matrix(y_val_split,yhats)"
   ]
  },
  {
   "cell_type": "code",
   "execution_count": 39,
   "id": "12f01abf",
   "metadata": {
    "execution": {
     "iopub.execute_input": "2022-03-21T11:06:01.214010Z",
     "iopub.status.busy": "2022-03-21T11:06:01.213117Z",
     "iopub.status.idle": "2022-03-21T11:06:01.285471Z",
     "shell.execute_reply": "2022-03-21T11:06:01.285984Z",
     "shell.execute_reply.started": "2022-03-21T11:01:24.611748Z"
    },
    "papermill": {
     "duration": 0.125893,
     "end_time": "2022-03-21T11:06:01.286173",
     "exception": false,
     "start_time": "2022-03-21T11:06:01.160280",
     "status": "completed"
    },
    "tags": []
   },
   "outputs": [],
   "source": [
    "from sklearn.ensemble import RandomForestClassifier"
   ]
  },
  {
   "cell_type": "code",
   "execution_count": 40,
   "id": "dd175592",
   "metadata": {
    "execution": {
     "iopub.execute_input": "2022-03-21T11:06:01.388058Z",
     "iopub.status.busy": "2022-03-21T11:06:01.387104Z",
     "iopub.status.idle": "2022-03-21T11:06:01.775883Z",
     "shell.execute_reply": "2022-03-21T11:06:01.776353Z",
     "shell.execute_reply.started": "2022-03-21T11:01:24.617785Z"
    },
    "papermill": {
     "duration": 0.441401,
     "end_time": "2022-03-21T11:06:01.776513",
     "exception": false,
     "start_time": "2022-03-21T11:06:01.335112",
     "status": "completed"
    },
    "tags": []
   },
   "outputs": [
    {
     "data": {
      "text/plain": [
       "0.7963483146067416"
      ]
     },
     "execution_count": 40,
     "metadata": {},
     "output_type": "execute_result"
    }
   ],
   "source": [
    "classifier_rf = RandomForestClassifier(random_state=42, n_jobs=-1, max_depth=5,\n",
    "                                       n_estimators=100, oob_score=True)\n",
    "classifier_rf.fit(x_train_split,y_train_split)\n",
    "pred = classifier_rf.predict(x_val_split)\n",
    "jc_scr, f1_scr = checkValidation(y_val_split, pred)\n",
    "summary_prediction.append(['Random Forest Classifier',jc_scr, f1_scr])\n",
    "classifier_rf.oob_score_"
   ]
  },
  {
   "cell_type": "code",
   "execution_count": 41,
   "id": "863d165e",
   "metadata": {
    "execution": {
     "iopub.execute_input": "2022-03-21T11:06:01.881232Z",
     "iopub.status.busy": "2022-03-21T11:06:01.880642Z",
     "iopub.status.idle": "2022-03-21T11:06:02.211614Z",
     "shell.execute_reply": "2022-03-21T11:06:02.212091Z",
     "shell.execute_reply.started": "2022-03-21T11:01:25.144630Z"
    },
    "papermill": {
     "duration": 0.385311,
     "end_time": "2022-03-21T11:06:02.212258",
     "exception": false,
     "start_time": "2022-03-21T11:06:01.826947",
     "status": "completed"
    },
    "tags": []
   },
   "outputs": [
    {
     "data": {
      "image/png": "[encoded data removed]",
      "text/plain": [
       "<Figure size 432x288 with 2 Axes>"
      ]
     },
     "metadata": {
      "needs_background": "light"
     },
     "output_type": "display_data"
    }
   ],
   "source": [
    "yhatc=classifier_rf.predict(x_val_split)\n",
    "plot_confusion_matrix(y_val_split,yhatc)"
   ]
  },
  {
   "cell_type": "code",
   "execution_count": 42,
   "id": "5635231a",
   "metadata": {
    "execution": {
     "iopub.execute_input": "2022-03-21T11:06:02.319976Z",
     "iopub.status.busy": "2022-03-21T11:06:02.318989Z",
     "iopub.status.idle": "2022-03-21T11:06:02.327643Z",
     "shell.execute_reply": "2022-03-21T11:06:02.328045Z",
     "shell.execute_reply.started": "2022-03-21T11:01:25.487210Z"
    },
    "papermill": {
     "duration": 0.064785,
     "end_time": "2022-03-21T11:06:02.328213",
     "exception": false,
     "start_time": "2022-03-21T11:06:02.263428",
     "status": "completed"
    },
    "tags": []
   },
   "outputs": [
    {
     "data": {
      "text/html": [
       "<div>\n",
       "<style scoped>\n",
       "    .dataframe tbody tr th:only-of-type {\n",
       "        vertical-align: middle;\n",
       "    }\n",
       "\n",
       "    .dataframe tbody tr th {\n",
       "        vertical-align: top;\n",
       "    }\n",
       "\n",
       "    .dataframe thead th {\n",
       "        text-align: right;\n",
       "    }\n",
       "</style>\n",
       "<table border=\"1\" class=\"dataframe\">\n",
       "  <thead>\n",
       "    <tr style=\"text-align: right;\">\n",
       "      <th></th>\n",
       "      <th>jaccard_score</th>\n",
       "      <th>f1_score</th>\n",
       "    </tr>\n",
       "    <tr>\n",
       "      <th>method</th>\n",
       "      <th></th>\n",
       "      <th></th>\n",
       "    </tr>\n",
       "  </thead>\n",
       "  <tbody>\n",
       "    <tr>\n",
       "      <th>Logistics Regression</th>\n",
       "      <td>0.727273</td>\n",
       "      <td>0.796888</td>\n",
       "    </tr>\n",
       "    <tr>\n",
       "      <th>Decision Tree</th>\n",
       "      <td>0.776923</td>\n",
       "      <td>0.835404</td>\n",
       "    </tr>\n",
       "    <tr>\n",
       "      <th>K Nearest Neighbor</th>\n",
       "      <td>0.768116</td>\n",
       "      <td>0.812039</td>\n",
       "    </tr>\n",
       "    <tr>\n",
       "      <th>Support Vector Machine</th>\n",
       "      <td>0.748092</td>\n",
       "      <td>0.813458</td>\n",
       "    </tr>\n",
       "    <tr>\n",
       "      <th>Random Forest Classifier</th>\n",
       "      <td>0.753623</td>\n",
       "      <td>0.801530</td>\n",
       "    </tr>\n",
       "  </tbody>\n",
       "</table>\n",
       "</div>"
      ],
      "text/plain": [
       "                          jaccard_score  f1_score\n",
       "method                                           \n",
       "Logistics Regression           0.727273  0.796888\n",
       "Decision Tree                  0.776923  0.835404\n",
       "K Nearest Neighbor             0.768116  0.812039\n",
       "Support Vector Machine         0.748092  0.813458\n",
       "Random Forest Classifier       0.753623  0.801530"
      ]
     },
     "execution_count": 42,
     "metadata": {},
     "output_type": "execute_result"
    }
   ],
   "source": [
    "pd_summary_prediction = pd.DataFrame(data=summary_prediction, columns=['method','jaccard_score','f1_score'])\n",
    "pd_summary_prediction.set_index('method', inplace=True)\n",
    "pd_summary_prediction.head()"
   ]
  },
  {
   "cell_type": "code",
   "execution_count": 43,
   "id": "91927c2f",
   "metadata": {
    "execution": {
     "iopub.execute_input": "2022-03-21T11:06:02.433671Z",
     "iopub.status.busy": "2022-03-21T11:06:02.433055Z",
     "iopub.status.idle": "2022-03-21T11:06:14.151037Z",
     "shell.execute_reply": "2022-03-21T11:06:14.151752Z",
     "shell.execute_reply.started": "2022-03-21T11:04:00.311715Z"
    },
    "papermill": {
     "duration": 11.772188,
     "end_time": "2022-03-21T11:06:14.151988",
     "exception": false,
     "start_time": "2022-03-21T11:06:02.379800",
     "status": "completed"
    },
    "tags": []
   },
   "outputs": [
    {
     "name": "stdout",
     "output_type": "stream",
     "text": [
      "tuned hpyerparameters :(best parameters)  {'criterion': 'entropy', 'max_depth': 10, 'max_features': 'sqrt', 'min_samples_leaf': 1, 'min_samples_split': 2, 'splitter': 'random'}\n",
      "accuracy : 0.8182022471910113\n"
     ]
    }
   ],
   "source": [
    "parameters = {'criterion': ['gini', 'entropy'],\n",
    "     'splitter': ['best', 'random'],\n",
    "     'max_depth': [2*n for n in range(1,10)],\n",
    "     'max_features': ['auto', 'sqrt'],\n",
    "     'min_samples_leaf': [1, 2, 4],\n",
    "     'min_samples_split': [2, 5, 10]}\n",
    "\n",
    "selected_model = DecisionTreeClassifier()\n",
    "selected_model = GridSearchCV(selected_model, parameters,cv=10)\n",
    "selected_model.fit(x_train, y_train)\n",
    "print(\"tuned hpyerparameters :(best parameters) \",selected_model.best_params_)\n",
    "print(\"accuracy :\",selected_model.best_score_)"
   ]
  },
  {
   "cell_type": "code",
   "execution_count": 44,
   "id": "359457ba",
   "metadata": {
    "execution": {
     "iopub.execute_input": "2022-03-21T11:06:14.259414Z",
     "iopub.status.busy": "2022-03-21T11:06:14.258762Z",
     "iopub.status.idle": "2022-03-21T11:06:14.276574Z",
     "shell.execute_reply": "2022-03-21T11:06:14.277157Z",
     "shell.execute_reply.started": "2022-03-21T11:04:18.583123Z"
    },
    "papermill": {
     "duration": 0.073596,
     "end_time": "2022-03-21T11:06:14.277321",
     "exception": false,
     "start_time": "2022-03-21T11:06:14.203725",
     "status": "completed"
    },
    "tags": []
   },
   "outputs": [
    {
     "data": {
      "text/html": [
       "<div>\n",
       "<style scoped>\n",
       "    .dataframe tbody tr th:only-of-type {\n",
       "        vertical-align: middle;\n",
       "    }\n",
       "\n",
       "    .dataframe tbody tr th {\n",
       "        vertical-align: top;\n",
       "    }\n",
       "\n",
       "    .dataframe thead th {\n",
       "        text-align: right;\n",
       "    }\n",
       "</style>\n",
       "<table border=\"1\" class=\"dataframe\">\n",
       "  <thead>\n",
       "    <tr style=\"text-align: right;\">\n",
       "      <th></th>\n",
       "      <th>PassengerId</th>\n",
       "      <th>Pclass</th>\n",
       "      <th>Name</th>\n",
       "      <th>Sex</th>\n",
       "      <th>Age</th>\n",
       "      <th>SibSp</th>\n",
       "      <th>Parch</th>\n",
       "      <th>Ticket</th>\n",
       "      <th>Fare</th>\n",
       "      <th>Cabin</th>\n",
       "      <th>Embarked</th>\n",
       "      <th>Survived</th>\n",
       "    </tr>\n",
       "  </thead>\n",
       "  <tbody>\n",
       "    <tr>\n",
       "      <th>0</th>\n",
       "      <td>892</td>\n",
       "      <td>3</td>\n",
       "      <td>Kelly, Mr. James</td>\n",
       "      <td>male</td>\n",
       "      <td>34.5</td>\n",
       "      <td>0</td>\n",
       "      <td>0</td>\n",
       "      <td>330911</td>\n",
       "      <td>7.8292</td>\n",
       "      <td>NaN</td>\n",
       "      <td>Q</td>\n",
       "      <td>0</td>\n",
       "    </tr>\n",
       "    <tr>\n",
       "      <th>1</th>\n",
       "      <td>893</td>\n",
       "      <td>3</td>\n",
       "      <td>Wilkes, Mrs. James (Ellen Needs)</td>\n",
       "      <td>female</td>\n",
       "      <td>47.0</td>\n",
       "      <td>1</td>\n",
       "      <td>0</td>\n",
       "      <td>363272</td>\n",
       "      <td>7.0000</td>\n",
       "      <td>NaN</td>\n",
       "      <td>S</td>\n",
       "      <td>1</td>\n",
       "    </tr>\n",
       "    <tr>\n",
       "      <th>2</th>\n",
       "      <td>894</td>\n",
       "      <td>2</td>\n",
       "      <td>Myles, Mr. Thomas Francis</td>\n",
       "      <td>male</td>\n",
       "      <td>62.0</td>\n",
       "      <td>0</td>\n",
       "      <td>0</td>\n",
       "      <td>240276</td>\n",
       "      <td>9.6875</td>\n",
       "      <td>NaN</td>\n",
       "      <td>Q</td>\n",
       "      <td>0</td>\n",
       "    </tr>\n",
       "    <tr>\n",
       "      <th>3</th>\n",
       "      <td>895</td>\n",
       "      <td>3</td>\n",
       "      <td>Wirz, Mr. Albert</td>\n",
       "      <td>male</td>\n",
       "      <td>27.0</td>\n",
       "      <td>0</td>\n",
       "      <td>0</td>\n",
       "      <td>315154</td>\n",
       "      <td>8.6625</td>\n",
       "      <td>NaN</td>\n",
       "      <td>S</td>\n",
       "      <td>0</td>\n",
       "    </tr>\n",
       "    <tr>\n",
       "      <th>4</th>\n",
       "      <td>896</td>\n",
       "      <td>3</td>\n",
       "      <td>Hirvonen, Mrs. Alexander (Helga E Lindqvist)</td>\n",
       "      <td>female</td>\n",
       "      <td>22.0</td>\n",
       "      <td>1</td>\n",
       "      <td>1</td>\n",
       "      <td>3101298</td>\n",
       "      <td>12.2875</td>\n",
       "      <td>NaN</td>\n",
       "      <td>S</td>\n",
       "      <td>1</td>\n",
       "    </tr>\n",
       "  </tbody>\n",
       "</table>\n",
       "</div>"
      ],
      "text/plain": [
       "   PassengerId  Pclass                                          Name     Sex  \\\n",
       "0          892       3                              Kelly, Mr. James    male   \n",
       "1          893       3              Wilkes, Mrs. James (Ellen Needs)  female   \n",
       "2          894       2                     Myles, Mr. Thomas Francis    male   \n",
       "3          895       3                              Wirz, Mr. Albert    male   \n",
       "4          896       3  Hirvonen, Mrs. Alexander (Helga E Lindqvist)  female   \n",
       "\n",
       "    Age  SibSp  Parch   Ticket     Fare Cabin Embarked  Survived  \n",
       "0  34.5      0      0   330911   7.8292   NaN        Q         0  \n",
       "1  47.0      1      0   363272   7.0000   NaN        S         1  \n",
       "2  62.0      0      0   240276   9.6875   NaN        Q         0  \n",
       "3  27.0      0      0   315154   8.6625   NaN        S         0  \n",
       "4  22.0      1      1  3101298  12.2875   NaN        S         1  "
      ]
     },
     "execution_count": 44,
     "metadata": {},
     "output_type": "execute_result"
    }
   ],
   "source": [
    "numerical_feature = selected_model.predict(x_test)\n",
    "data_test_predict = raw_test.copy()\n",
    "data_test_predict['Survived'] = numerical_feature\n",
    "data_test_predict.head()"
   ]
  },
  {
   "cell_type": "code",
   "execution_count": 45,
   "id": "9a6a53ec",
   "metadata": {
    "execution": {
     "iopub.execute_input": "2022-03-21T11:06:14.401285Z",
     "iopub.status.busy": "2022-03-21T11:06:14.400696Z",
     "iopub.status.idle": "2022-03-21T11:06:14.418727Z",
     "shell.execute_reply": "2022-03-21T11:06:14.419456Z",
     "shell.execute_reply.started": "2022-03-21T11:04:26.211099Z"
    },
    "papermill": {
     "duration": 0.074345,
     "end_time": "2022-03-21T11:06:14.419742",
     "exception": false,
     "start_time": "2022-03-21T11:06:14.345397",
     "status": "completed"
    },
    "tags": []
   },
   "outputs": [],
   "source": [
    "submission = data_test_predict[['PassengerId', 'Survived']]\n",
    "submission.to_csv('./submission.csv', index=False)"
   ]
  },
  {
   "cell_type": "code",
   "execution_count": null,
   "id": "79243e42",
   "metadata": {
    "papermill": {
     "duration": 0.051289,
     "end_time": "2022-03-21T11:06:14.549106",
     "exception": false,
     "start_time": "2022-03-21T11:06:14.497817",
     "status": "completed"
    },
    "tags": []
   },
   "outputs": [],
   "source": []
  }
 ],
 "metadata": {
  "kernelspec": {
   "display_name": "Python 3",
   "language": "python",
   "name": "python3"
  },
  "language_info": {
   "codemirror_mode": {
    "name": "ipython",
    "version": 3
   },
   "file_extension": ".py",
   "mimetype": "text/x-python",
   "name": "python",
   "nbconvert_exporter": "python",
   "pygments_lexer": "ipython3",
   "version": "3.7.12"
  },
  "papermill": {
   "default_parameters": {},
   "duration": 52.079613,
   "end_time": "2022-03-21T11:06:15.319104",
   "environment_variables": {},
   "exception": null,
   "input_path": "__notebook__.ipynb",
   "output_path": "__notebook__.ipynb",
   "parameters": {},
   "start_time": "2022-03-21T11:05:23.239491",
   "version": "2.3.3"
  }
 },
 "nbformat": 4,
 "nbformat_minor": 5
}
