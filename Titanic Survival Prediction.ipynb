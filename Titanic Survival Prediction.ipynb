{
 "cells": [
  {
   "cell_type": "code",
   "execution_count": 1,
   "id": "1de494ba",
   "metadata": {
    "_cell_guid": "b1076dfc-b9ad-4769-8c92-a6c4dae69d19",
    "_uuid": "8f2839f25d086af736a60e9eeb907d3b93b6e0e5",
    "execution": {
     "iopub.execute_input": "2022-03-20T07:51:37.029870Z",
     "iopub.status.busy": "2022-03-20T07:51:37.028515Z",
     "iopub.status.idle": "2022-03-20T07:51:38.119269Z",
     "shell.execute_reply": "2022-03-20T07:51:38.119897Z",
     "shell.execute_reply.started": "2022-03-20T07:47:59.994343Z"
    },
    "papermill": {
     "duration": 1.151134,
     "end_time": "2022-03-20T07:51:38.120239",
     "exception": false,
     "start_time": "2022-03-20T07:51:36.969105",
     "status": "completed"
    },
    "tags": []
   },
   "outputs": [],
   "source": [
    "import numpy as np # linear algebra\n",
    "import pandas as pd # data processing, CSV file I/O (e.g. pd.read_csv)\n",
    "import matplotlib.pyplot as plt\n",
    "import seaborn as sns"
   ]
  },
  {
   "cell_type": "code",
   "execution_count": 2,
   "id": "f30c532b",
   "metadata": {
    "execution": {
     "iopub.execute_input": "2022-03-20T07:51:38.232288Z",
     "iopub.status.busy": "2022-03-20T07:51:38.231363Z",
     "iopub.status.idle": "2022-03-20T07:51:38.261802Z",
     "shell.execute_reply": "2022-03-20T07:51:38.262430Z",
     "shell.execute_reply.started": "2022-03-20T07:48:00.009025Z"
    },
    "papermill": {
     "duration": 0.088607,
     "end_time": "2022-03-20T07:51:38.262627",
     "exception": false,
     "start_time": "2022-03-20T07:51:38.174020",
     "status": "completed"
    },
    "tags": []
   },
   "outputs": [],
   "source": [
    "raw_train = pd.read_csv(\"/kaggle/input/titanic/train.csv\")\n",
    "raw_test = pd.read_csv(\"/kaggle/input/titanic/test.csv\")"
   ]
  },
  {
   "cell_type": "code",
   "execution_count": 3,
   "id": "e56147d6",
   "metadata": {
    "execution": {
     "iopub.execute_input": "2022-03-20T07:51:38.373090Z",
     "iopub.status.busy": "2022-03-20T07:51:38.372391Z",
     "iopub.status.idle": "2022-03-20T07:51:38.397580Z",
     "shell.execute_reply": "2022-03-20T07:51:38.398146Z",
     "shell.execute_reply.started": "2022-03-20T07:48:00.035664Z"
    },
    "papermill": {
     "duration": 0.081357,
     "end_time": "2022-03-20T07:51:38.398349",
     "exception": false,
     "start_time": "2022-03-20T07:51:38.316992",
     "status": "completed"
    },
    "tags": []
   },
   "outputs": [
    {
     "data": {
      "text/html": [
       "<div>\n",
       "<style scoped>\n",
       "    .dataframe tbody tr th:only-of-type {\n",
       "        vertical-align: middle;\n",
       "    }\n",
       "\n",
       "    .dataframe tbody tr th {\n",
       "        vertical-align: top;\n",
       "    }\n",
       "\n",
       "    .dataframe thead th {\n",
       "        text-align: right;\n",
       "    }\n",
       "</style>\n",
       "<table border=\"1\" class=\"dataframe\">\n",
       "  <thead>\n",
       "    <tr style=\"text-align: right;\">\n",
       "      <th></th>\n",
       "      <th>PassengerId</th>\n",
       "      <th>Survived</th>\n",
       "      <th>Pclass</th>\n",
       "      <th>Name</th>\n",
       "      <th>Sex</th>\n",
       "      <th>Age</th>\n",
       "      <th>SibSp</th>\n",
       "      <th>Parch</th>\n",
       "      <th>Ticket</th>\n",
       "      <th>Fare</th>\n",
       "      <th>Cabin</th>\n",
       "      <th>Embarked</th>\n",
       "    </tr>\n",
       "  </thead>\n",
       "  <tbody>\n",
       "    <tr>\n",
       "      <th>0</th>\n",
       "      <td>1</td>\n",
       "      <td>0</td>\n",
       "      <td>3</td>\n",
       "      <td>Braund, Mr. Owen Harris</td>\n",
       "      <td>male</td>\n",
       "      <td>22.0</td>\n",
       "      <td>1</td>\n",
       "      <td>0</td>\n",
       "      <td>A/5 21171</td>\n",
       "      <td>7.2500</td>\n",
       "      <td>NaN</td>\n",
       "      <td>S</td>\n",
       "    </tr>\n",
       "    <tr>\n",
       "      <th>1</th>\n",
       "      <td>2</td>\n",
       "      <td>1</td>\n",
       "      <td>1</td>\n",
       "      <td>Cumings, Mrs. John Bradley (Florence Briggs Th...</td>\n",
       "      <td>female</td>\n",
       "      <td>38.0</td>\n",
       "      <td>1</td>\n",
       "      <td>0</td>\n",
       "      <td>PC 17599</td>\n",
       "      <td>71.2833</td>\n",
       "      <td>C85</td>\n",
       "      <td>C</td>\n",
       "    </tr>\n",
       "    <tr>\n",
       "      <th>2</th>\n",
       "      <td>3</td>\n",
       "      <td>1</td>\n",
       "      <td>3</td>\n",
       "      <td>Heikkinen, Miss. Laina</td>\n",
       "      <td>female</td>\n",
       "      <td>26.0</td>\n",
       "      <td>0</td>\n",
       "      <td>0</td>\n",
       "      <td>STON/O2. 3101282</td>\n",
       "      <td>7.9250</td>\n",
       "      <td>NaN</td>\n",
       "      <td>S</td>\n",
       "    </tr>\n",
       "    <tr>\n",
       "      <th>3</th>\n",
       "      <td>4</td>\n",
       "      <td>1</td>\n",
       "      <td>1</td>\n",
       "      <td>Futrelle, Mrs. Jacques Heath (Lily May Peel)</td>\n",
       "      <td>female</td>\n",
       "      <td>35.0</td>\n",
       "      <td>1</td>\n",
       "      <td>0</td>\n",
       "      <td>113803</td>\n",
       "      <td>53.1000</td>\n",
       "      <td>C123</td>\n",
       "      <td>S</td>\n",
       "    </tr>\n",
       "    <tr>\n",
       "      <th>4</th>\n",
       "      <td>5</td>\n",
       "      <td>0</td>\n",
       "      <td>3</td>\n",
       "      <td>Allen, Mr. William Henry</td>\n",
       "      <td>male</td>\n",
       "      <td>35.0</td>\n",
       "      <td>0</td>\n",
       "      <td>0</td>\n",
       "      <td>373450</td>\n",
       "      <td>8.0500</td>\n",
       "      <td>NaN</td>\n",
       "      <td>S</td>\n",
       "    </tr>\n",
       "  </tbody>\n",
       "</table>\n",
       "</div>"
      ],
      "text/plain": [
       "   PassengerId  Survived  Pclass  \\\n",
       "0            1         0       3   \n",
       "1            2         1       1   \n",
       "2            3         1       3   \n",
       "3            4         1       1   \n",
       "4            5         0       3   \n",
       "\n",
       "                                                Name     Sex   Age  SibSp  \\\n",
       "0                            Braund, Mr. Owen Harris    male  22.0      1   \n",
       "1  Cumings, Mrs. John Bradley (Florence Briggs Th...  female  38.0      1   \n",
       "2                             Heikkinen, Miss. Laina  female  26.0      0   \n",
       "3       Futrelle, Mrs. Jacques Heath (Lily May Peel)  female  35.0      1   \n",
       "4                           Allen, Mr. William Henry    male  35.0      0   \n",
       "\n",
       "   Parch            Ticket     Fare Cabin Embarked  \n",
       "0      0         A/5 21171   7.2500   NaN        S  \n",
       "1      0          PC 17599  71.2833   C85        C  \n",
       "2      0  STON/O2. 3101282   7.9250   NaN        S  \n",
       "3      0            113803  53.1000  C123        S  \n",
       "4      0            373450   8.0500   NaN        S  "
      ]
     },
     "execution_count": 3,
     "metadata": {},
     "output_type": "execute_result"
    }
   ],
   "source": [
    "raw_train.head()"
   ]
  },
  {
   "cell_type": "code",
   "execution_count": 4,
   "id": "b5ab97e6",
   "metadata": {
    "execution": {
     "iopub.execute_input": "2022-03-20T07:51:38.511051Z",
     "iopub.status.busy": "2022-03-20T07:51:38.510263Z",
     "iopub.status.idle": "2022-03-20T07:51:38.519991Z",
     "shell.execute_reply": "2022-03-20T07:51:38.519249Z",
     "shell.execute_reply.started": "2022-03-20T07:48:00.057232Z"
    },
    "papermill": {
     "duration": 0.068225,
     "end_time": "2022-03-20T07:51:38.520158",
     "exception": false,
     "start_time": "2022-03-20T07:51:38.451933",
     "status": "completed"
    },
    "tags": []
   },
   "outputs": [
    {
     "data": {
      "text/plain": [
       "PassengerId      0\n",
       "Survived         0\n",
       "Pclass           0\n",
       "Name             0\n",
       "Sex              0\n",
       "Age            177\n",
       "SibSp            0\n",
       "Parch            0\n",
       "Ticket           0\n",
       "Fare             0\n",
       "Cabin          687\n",
       "Embarked         2\n",
       "dtype: int64"
      ]
     },
     "execution_count": 4,
     "metadata": {},
     "output_type": "execute_result"
    }
   ],
   "source": [
    "raw_train.isna().sum()"
   ]
  },
  {
   "cell_type": "markdown",
   "id": "3a27fe38",
   "metadata": {
    "papermill": {
     "duration": 0.053876,
     "end_time": "2022-03-20T07:51:38.629286",
     "exception": false,
     "start_time": "2022-03-20T07:51:38.575410",
     "status": "completed"
    },
    "tags": []
   },
   "source": [
    "**Converting all cabins number to their floor code**"
   ]
  },
  {
   "cell_type": "code",
   "execution_count": 5,
   "id": "9e9caedd",
   "metadata": {
    "execution": {
     "iopub.execute_input": "2022-03-20T07:51:38.749898Z",
     "iopub.status.busy": "2022-03-20T07:51:38.748935Z",
     "iopub.status.idle": "2022-03-20T07:51:38.752792Z",
     "shell.execute_reply": "2022-03-20T07:51:38.753373Z",
     "shell.execute_reply.started": "2022-03-20T07:48:00.075064Z"
    },
    "papermill": {
     "duration": 0.069035,
     "end_time": "2022-03-20T07:51:38.753563",
     "exception": false,
     "start_time": "2022-03-20T07:51:38.684528",
     "status": "completed"
    },
    "tags": []
   },
   "outputs": [
    {
     "data": {
      "text/plain": [
       "array([nan, 'C85', 'C123', 'E46', 'G6', 'C103', 'D56', 'A6',\n",
       "       'C23 C25 C27', 'B78', 'D33', 'B30', 'C52', 'B28', 'C83', 'F33',\n",
       "       'F G73', 'E31', 'A5', 'D10 D12', 'D26', 'C110', 'B58 B60', 'E101',\n",
       "       'F E69', 'D47', 'B86', 'F2', 'C2', 'E33', 'B19', 'A7', 'C49', 'F4',\n",
       "       'A32', 'B4', 'B80', 'A31', 'D36', 'D15', 'C93', 'C78', 'D35',\n",
       "       'C87', 'B77', 'E67', 'B94', 'C125', 'C99', 'C118', 'D7', 'A19',\n",
       "       'B49', 'D', 'C22 C26', 'C106', 'C65', 'E36', 'C54',\n",
       "       'B57 B59 B63 B66', 'C7', 'E34', 'C32', 'B18', 'C124', 'C91', 'E40',\n",
       "       'T', 'C128', 'D37', 'B35', 'E50', 'C82', 'B96 B98', 'E10', 'E44',\n",
       "       'A34', 'C104', 'C111', 'C92', 'E38', 'D21', 'E12', 'E63', 'A14',\n",
       "       'B37', 'C30', 'D20', 'B79', 'E25', 'D46', 'B73', 'C95', 'B38',\n",
       "       'B39', 'B22', 'C86', 'C70', 'A16', 'C101', 'C68', 'A10', 'E68',\n",
       "       'B41', 'A20', 'D19', 'D50', 'D9', 'A23', 'B50', 'A26', 'D48',\n",
       "       'E58', 'C126', 'B71', 'B51 B53 B55', 'D49', 'B5', 'B20', 'F G63',\n",
       "       'C62 C64', 'E24', 'C90', 'C45', 'E8', 'B101', 'D45', 'C46', 'D30',\n",
       "       'E121', 'D11', 'E77', 'F38', 'B3', 'D6', 'B82 B84', 'D17', 'A36',\n",
       "       'B102', 'B69', 'E49', 'C47', 'D28', 'E17', 'A24', 'C50', 'B42',\n",
       "       'C148'], dtype=object)"
      ]
     },
     "execution_count": 5,
     "metadata": {},
     "output_type": "execute_result"
    }
   ],
   "source": [
    "raw_train[\"Cabin\"].unique()"
   ]
  },
  {
   "cell_type": "code",
   "execution_count": 6,
   "id": "ba3529c4",
   "metadata": {
    "execution": {
     "iopub.execute_input": "2022-03-20T07:51:38.869796Z",
     "iopub.status.busy": "2022-03-20T07:51:38.869036Z",
     "iopub.status.idle": "2022-03-20T07:51:38.875424Z",
     "shell.execute_reply": "2022-03-20T07:51:38.876024Z",
     "shell.execute_reply.started": "2022-03-20T07:48:00.086845Z"
    },
    "papermill": {
     "duration": 0.068263,
     "end_time": "2022-03-20T07:51:38.876217",
     "exception": false,
     "start_time": "2022-03-20T07:51:38.807954",
     "status": "completed"
    },
    "tags": []
   },
   "outputs": [],
   "source": [
    "raw_train_drop = raw_train.copy()\n",
    "raw_test_drop = raw_test.copy()\n",
    "\n",
    "def replace_cabin(cabin_col):\n",
    "    if(pd.isnull(cabin_col)):\n",
    "        return 0\n",
    "    else:\n",
    "        return cabin_col[0]\n",
    "\n",
    "raw_train_drop[\"Floor Code\"] = raw_train_drop[\"Cabin\"].apply(replace_cabin)\n",
    "raw_test_drop[\"Floor Code\"] = raw_test_drop[\"Cabin\"].apply(replace_cabin)"
   ]
  },
  {
   "cell_type": "code",
   "execution_count": 7,
   "id": "4297c78f",
   "metadata": {
    "execution": {
     "iopub.execute_input": "2022-03-20T07:51:38.989904Z",
     "iopub.status.busy": "2022-03-20T07:51:38.989217Z",
     "iopub.status.idle": "2022-03-20T07:51:38.996351Z",
     "shell.execute_reply": "2022-03-20T07:51:38.995759Z",
     "shell.execute_reply.started": "2022-03-20T07:48:00.103527Z"
    },
    "papermill": {
     "duration": 0.063696,
     "end_time": "2022-03-20T07:51:38.996513",
     "exception": false,
     "start_time": "2022-03-20T07:51:38.932817",
     "status": "completed"
    },
    "tags": []
   },
   "outputs": [
    {
     "data": {
      "text/plain": [
       "array([0, 'C', 'E', 'G', 'D', 'A', 'B', 'F', 'T'], dtype=object)"
      ]
     },
     "execution_count": 7,
     "metadata": {},
     "output_type": "execute_result"
    }
   ],
   "source": [
    "raw_train_drop[\"Floor Code\"].unique()"
   ]
  },
  {
   "cell_type": "markdown",
   "id": "735d5b24",
   "metadata": {
    "papermill": {
     "duration": 0.054666,
     "end_time": "2022-03-20T07:51:39.107356",
     "exception": false,
     "start_time": "2022-03-20T07:51:39.052690",
     "status": "completed"
    },
    "tags": []
   },
   "source": [
    "**Replacing the NAN values with the unique value with max appearance**"
   ]
  },
  {
   "cell_type": "code",
   "execution_count": 8,
   "id": "abc95b0d",
   "metadata": {
    "execution": {
     "iopub.execute_input": "2022-03-20T07:51:39.225233Z",
     "iopub.status.busy": "2022-03-20T07:51:39.224521Z",
     "iopub.status.idle": "2022-03-20T07:51:39.227696Z",
     "shell.execute_reply": "2022-03-20T07:51:39.228293Z",
     "shell.execute_reply.started": "2022-03-20T07:48:00.114616Z"
    },
    "papermill": {
     "duration": 0.065188,
     "end_time": "2022-03-20T07:51:39.228501",
     "exception": false,
     "start_time": "2022-03-20T07:51:39.163313",
     "status": "completed"
    },
    "tags": []
   },
   "outputs": [
    {
     "data": {
      "text/plain": [
       "array(['S', 'C', 'Q', nan], dtype=object)"
      ]
     },
     "execution_count": 8,
     "metadata": {},
     "output_type": "execute_result"
    }
   ],
   "source": [
    "raw_train[\"Embarked\"].unique()"
   ]
  },
  {
   "cell_type": "code",
   "execution_count": 9,
   "id": "4ba86a33",
   "metadata": {
    "execution": {
     "iopub.execute_input": "2022-03-20T07:51:39.341298Z",
     "iopub.status.busy": "2022-03-20T07:51:39.340617Z",
     "iopub.status.idle": "2022-03-20T07:51:39.360825Z",
     "shell.execute_reply": "2022-03-20T07:51:39.360140Z",
     "shell.execute_reply.started": "2022-03-20T07:48:00.126940Z"
    },
    "papermill": {
     "duration": 0.077396,
     "end_time": "2022-03-20T07:51:39.360983",
     "exception": false,
     "start_time": "2022-03-20T07:51:39.283587",
     "status": "completed"
    },
    "tags": []
   },
   "outputs": [],
   "source": [
    "comb = pd.concat((raw_train_drop, raw_test_drop), axis=0)\n",
    "vc = comb[\"Embarked\"].value_counts()\n",
    "raw_train_drop[\"Embarked\"].replace(np.nan, vc.idxmax(), inplace=True)\n",
    "raw_test_drop[\"Embarked\"].replace(np.nan, vc.idxmax(), inplace=True)"
   ]
  },
  {
   "cell_type": "markdown",
   "id": "7bec8aee",
   "metadata": {
    "papermill": {
     "duration": 0.054747,
     "end_time": "2022-03-20T07:51:39.470893",
     "exception": false,
     "start_time": "2022-03-20T07:51:39.416146",
     "status": "completed"
    },
    "tags": []
   },
   "source": []
  },
  {
   "cell_type": "markdown",
   "id": "628ce07d",
   "metadata": {
    "execution": {
     "iopub.execute_input": "2022-03-19T14:40:43.022248Z",
     "iopub.status.busy": "2022-03-19T14:40:43.021941Z",
     "iopub.status.idle": "2022-03-19T14:40:43.027367Z",
     "shell.execute_reply": "2022-03-19T14:40:43.026311Z",
     "shell.execute_reply.started": "2022-03-19T14:40:43.022214Z"
    },
    "papermill": {
     "duration": 0.05593,
     "end_time": "2022-03-20T07:51:39.581677",
     "exception": false,
     "start_time": "2022-03-20T07:51:39.525747",
     "status": "completed"
    },
    "tags": []
   },
   "source": [
    "**Replacing missing age with average age for train data and Fare for test data**"
   ]
  },
  {
   "cell_type": "code",
   "execution_count": 10,
   "id": "59fbc566",
   "metadata": {
    "execution": {
     "iopub.execute_input": "2022-03-20T07:51:39.703107Z",
     "iopub.status.busy": "2022-03-20T07:51:39.701127Z",
     "iopub.status.idle": "2022-03-20T07:51:39.710471Z",
     "shell.execute_reply": "2022-03-20T07:51:39.709809Z",
     "shell.execute_reply.started": "2022-03-20T07:48:00.284018Z"
    },
    "papermill": {
     "duration": 0.072807,
     "end_time": "2022-03-20T07:51:39.710668",
     "exception": false,
     "start_time": "2022-03-20T07:51:39.637861",
     "status": "completed"
    },
    "tags": []
   },
   "outputs": [],
   "source": [
    "comb = pd.concat((raw_train_drop, raw_test_drop), axis=0)\n",
    "\n",
    "age_mean = comb[\"Age\"].mean()\n",
    "raw_train_drop[\"Age\"].replace(np.nan, age_mean, inplace=True)\n",
    "raw_test_drop[\"Age\"].replace(np.nan, age_mean, inplace=True)\n",
    "\n",
    "fare_mean = comb[\"Fare\"].mean()\n",
    "raw_test_drop[\"Fare\"].replace(np.nan, fare_mean, inplace=True)"
   ]
  },
  {
   "cell_type": "markdown",
   "id": "58fc77b3",
   "metadata": {
    "papermill": {
     "duration": 0.054183,
     "end_time": "2022-03-20T07:51:39.818673",
     "exception": false,
     "start_time": "2022-03-20T07:51:39.764490",
     "status": "completed"
    },
    "tags": []
   },
   "source": [
    "**Dropped Unnecssary Column**"
   ]
  },
  {
   "cell_type": "code",
   "execution_count": 11,
   "id": "e4d3cafc",
   "metadata": {
    "execution": {
     "iopub.execute_input": "2022-03-20T07:51:39.937050Z",
     "iopub.status.busy": "2022-03-20T07:51:39.935903Z",
     "iopub.status.idle": "2022-03-20T07:51:39.955669Z",
     "shell.execute_reply": "2022-03-20T07:51:39.956202Z",
     "shell.execute_reply.started": "2022-03-20T07:48:00.518315Z"
    },
    "papermill": {
     "duration": 0.081257,
     "end_time": "2022-03-20T07:51:39.956419",
     "exception": false,
     "start_time": "2022-03-20T07:51:39.875162",
     "status": "completed"
    },
    "tags": []
   },
   "outputs": [
    {
     "data": {
      "text/html": [
       "<div>\n",
       "<style scoped>\n",
       "    .dataframe tbody tr th:only-of-type {\n",
       "        vertical-align: middle;\n",
       "    }\n",
       "\n",
       "    .dataframe tbody tr th {\n",
       "        vertical-align: top;\n",
       "    }\n",
       "\n",
       "    .dataframe thead th {\n",
       "        text-align: right;\n",
       "    }\n",
       "</style>\n",
       "<table border=\"1\" class=\"dataframe\">\n",
       "  <thead>\n",
       "    <tr style=\"text-align: right;\">\n",
       "      <th></th>\n",
       "      <th>PassengerId</th>\n",
       "      <th>Survived</th>\n",
       "      <th>Pclass</th>\n",
       "      <th>Sex</th>\n",
       "      <th>Age</th>\n",
       "      <th>SibSp</th>\n",
       "      <th>Parch</th>\n",
       "      <th>Fare</th>\n",
       "      <th>Embarked</th>\n",
       "      <th>Floor Code</th>\n",
       "    </tr>\n",
       "  </thead>\n",
       "  <tbody>\n",
       "    <tr>\n",
       "      <th>0</th>\n",
       "      <td>1</td>\n",
       "      <td>0</td>\n",
       "      <td>3</td>\n",
       "      <td>male</td>\n",
       "      <td>22.0</td>\n",
       "      <td>1</td>\n",
       "      <td>0</td>\n",
       "      <td>7.2500</td>\n",
       "      <td>S</td>\n",
       "      <td>0</td>\n",
       "    </tr>\n",
       "    <tr>\n",
       "      <th>1</th>\n",
       "      <td>2</td>\n",
       "      <td>1</td>\n",
       "      <td>1</td>\n",
       "      <td>female</td>\n",
       "      <td>38.0</td>\n",
       "      <td>1</td>\n",
       "      <td>0</td>\n",
       "      <td>71.2833</td>\n",
       "      <td>C</td>\n",
       "      <td>C</td>\n",
       "    </tr>\n",
       "    <tr>\n",
       "      <th>2</th>\n",
       "      <td>3</td>\n",
       "      <td>1</td>\n",
       "      <td>3</td>\n",
       "      <td>female</td>\n",
       "      <td>26.0</td>\n",
       "      <td>0</td>\n",
       "      <td>0</td>\n",
       "      <td>7.9250</td>\n",
       "      <td>S</td>\n",
       "      <td>0</td>\n",
       "    </tr>\n",
       "    <tr>\n",
       "      <th>3</th>\n",
       "      <td>4</td>\n",
       "      <td>1</td>\n",
       "      <td>1</td>\n",
       "      <td>female</td>\n",
       "      <td>35.0</td>\n",
       "      <td>1</td>\n",
       "      <td>0</td>\n",
       "      <td>53.1000</td>\n",
       "      <td>S</td>\n",
       "      <td>C</td>\n",
       "    </tr>\n",
       "    <tr>\n",
       "      <th>4</th>\n",
       "      <td>5</td>\n",
       "      <td>0</td>\n",
       "      <td>3</td>\n",
       "      <td>male</td>\n",
       "      <td>35.0</td>\n",
       "      <td>0</td>\n",
       "      <td>0</td>\n",
       "      <td>8.0500</td>\n",
       "      <td>S</td>\n",
       "      <td>0</td>\n",
       "    </tr>\n",
       "  </tbody>\n",
       "</table>\n",
       "</div>"
      ],
      "text/plain": [
       "   PassengerId  Survived  Pclass     Sex   Age  SibSp  Parch     Fare  \\\n",
       "0            1         0       3    male  22.0      1      0   7.2500   \n",
       "1            2         1       1  female  38.0      1      0  71.2833   \n",
       "2            3         1       3  female  26.0      0      0   7.9250   \n",
       "3            4         1       1  female  35.0      1      0  53.1000   \n",
       "4            5         0       3    male  35.0      0      0   8.0500   \n",
       "\n",
       "  Embarked Floor Code  \n",
       "0        S          0  \n",
       "1        C          C  \n",
       "2        S          0  \n",
       "3        S          C  \n",
       "4        S          0  "
      ]
     },
     "execution_count": 11,
     "metadata": {},
     "output_type": "execute_result"
    }
   ],
   "source": [
    "cols_to_drop = [\"Name\",\"Ticket\",\"Cabin\"]\n",
    "raw_train_drop.drop(columns=cols_to_drop,inplace=True)\n",
    "raw_test_drop.drop(columns=cols_to_drop,inplace=True)\n",
    "\n",
    "raw_train_drop.head()"
   ]
  },
  {
   "cell_type": "markdown",
   "id": "d81904ae",
   "metadata": {
    "papermill": {
     "duration": 0.054918,
     "end_time": "2022-03-20T07:51:40.068159",
     "exception": false,
     "start_time": "2022-03-20T07:51:40.013241",
     "status": "completed"
    },
    "tags": []
   },
   "source": [
    "**Replacing Sex, Embarked and Floor Code Columns with numbers**"
   ]
  },
  {
   "cell_type": "markdown",
   "id": "6fbb613c",
   "metadata": {
    "papermill": {
     "duration": 0.05603,
     "end_time": "2022-03-20T07:51:40.180035",
     "exception": false,
     "start_time": "2022-03-20T07:51:40.124005",
     "status": "completed"
    },
    "tags": []
   },
   "source": []
  },
  {
   "cell_type": "code",
   "execution_count": 12,
   "id": "9fd2694f",
   "metadata": {
    "execution": {
     "iopub.execute_input": "2022-03-20T07:51:40.311795Z",
     "iopub.status.busy": "2022-03-20T07:51:40.310704Z",
     "iopub.status.idle": "2022-03-20T07:51:40.314008Z",
     "shell.execute_reply": "2022-03-20T07:51:40.313295Z",
     "shell.execute_reply.started": "2022-03-20T07:48:00.546193Z"
    },
    "papermill": {
     "duration": 0.078534,
     "end_time": "2022-03-20T07:51:40.314161",
     "exception": false,
     "start_time": "2022-03-20T07:51:40.235627",
     "status": "completed"
    },
    "tags": []
   },
   "outputs": [],
   "source": [
    "columns_encode = {}\n",
    "columns_encode[\"Sex\"] = [[\"male\",\"female\"],[0,1]]\n",
    "columns_encode[\"Embarked\"] = [[\"S\",\"C\",\"Q\"],[0,1,2]]\n",
    "columns_encode[\"Floor Code\"] = [[\"A\",\"B\",\"C\",\"D\",\"E\",\"F\",\"G\",\"T\"],[1,2,3,4,5,6,7,8]]\n",
    "\n",
    "columns = [\"Sex\",\"Embarked\",\"Floor Code\"]\n",
    "\n",
    "for column in columns:\n",
    "    raw_train_drop[column].replace(columns_encode[column][0], columns_encode[column][1], inplace=True)\n",
    "    raw_test_drop[column].replace(columns_encode[column][0], columns_encode[column][1], inplace=True)"
   ]
  },
  {
   "cell_type": "code",
   "execution_count": 13,
   "id": "4840bc9e",
   "metadata": {
    "execution": {
     "iopub.execute_input": "2022-03-20T07:51:40.437347Z",
     "iopub.status.busy": "2022-03-20T07:51:40.436600Z",
     "iopub.status.idle": "2022-03-20T07:51:40.442854Z",
     "shell.execute_reply": "2022-03-20T07:51:40.443413Z",
     "shell.execute_reply.started": "2022-03-20T07:48:00.574172Z"
    },
    "papermill": {
     "duration": 0.074505,
     "end_time": "2022-03-20T07:51:40.443612",
     "exception": false,
     "start_time": "2022-03-20T07:51:40.369107",
     "status": "completed"
    },
    "tags": []
   },
   "outputs": [
    {
     "data": {
      "text/html": [
       "<div>\n",
       "<style scoped>\n",
       "    .dataframe tbody tr th:only-of-type {\n",
       "        vertical-align: middle;\n",
       "    }\n",
       "\n",
       "    .dataframe tbody tr th {\n",
       "        vertical-align: top;\n",
       "    }\n",
       "\n",
       "    .dataframe thead th {\n",
       "        text-align: right;\n",
       "    }\n",
       "</style>\n",
       "<table border=\"1\" class=\"dataframe\">\n",
       "  <thead>\n",
       "    <tr style=\"text-align: right;\">\n",
       "      <th></th>\n",
       "      <th>PassengerId</th>\n",
       "      <th>Survived</th>\n",
       "      <th>Pclass</th>\n",
       "      <th>Sex</th>\n",
       "      <th>Age</th>\n",
       "      <th>SibSp</th>\n",
       "      <th>Parch</th>\n",
       "      <th>Fare</th>\n",
       "      <th>Embarked</th>\n",
       "      <th>Floor Code</th>\n",
       "    </tr>\n",
       "  </thead>\n",
       "  <tbody>\n",
       "    <tr>\n",
       "      <th>0</th>\n",
       "      <td>1</td>\n",
       "      <td>0</td>\n",
       "      <td>3</td>\n",
       "      <td>0</td>\n",
       "      <td>22.0</td>\n",
       "      <td>1</td>\n",
       "      <td>0</td>\n",
       "      <td>7.2500</td>\n",
       "      <td>0</td>\n",
       "      <td>0</td>\n",
       "    </tr>\n",
       "    <tr>\n",
       "      <th>1</th>\n",
       "      <td>2</td>\n",
       "      <td>1</td>\n",
       "      <td>1</td>\n",
       "      <td>1</td>\n",
       "      <td>38.0</td>\n",
       "      <td>1</td>\n",
       "      <td>0</td>\n",
       "      <td>71.2833</td>\n",
       "      <td>1</td>\n",
       "      <td>3</td>\n",
       "    </tr>\n",
       "    <tr>\n",
       "      <th>2</th>\n",
       "      <td>3</td>\n",
       "      <td>1</td>\n",
       "      <td>3</td>\n",
       "      <td>1</td>\n",
       "      <td>26.0</td>\n",
       "      <td>0</td>\n",
       "      <td>0</td>\n",
       "      <td>7.9250</td>\n",
       "      <td>0</td>\n",
       "      <td>0</td>\n",
       "    </tr>\n",
       "    <tr>\n",
       "      <th>3</th>\n",
       "      <td>4</td>\n",
       "      <td>1</td>\n",
       "      <td>1</td>\n",
       "      <td>1</td>\n",
       "      <td>35.0</td>\n",
       "      <td>1</td>\n",
       "      <td>0</td>\n",
       "      <td>53.1000</td>\n",
       "      <td>0</td>\n",
       "      <td>3</td>\n",
       "    </tr>\n",
       "    <tr>\n",
       "      <th>4</th>\n",
       "      <td>5</td>\n",
       "      <td>0</td>\n",
       "      <td>3</td>\n",
       "      <td>0</td>\n",
       "      <td>35.0</td>\n",
       "      <td>0</td>\n",
       "      <td>0</td>\n",
       "      <td>8.0500</td>\n",
       "      <td>0</td>\n",
       "      <td>0</td>\n",
       "    </tr>\n",
       "  </tbody>\n",
       "</table>\n",
       "</div>"
      ],
      "text/plain": [
       "   PassengerId  Survived  Pclass  Sex   Age  SibSp  Parch     Fare  Embarked  \\\n",
       "0            1         0       3    0  22.0      1      0   7.2500         0   \n",
       "1            2         1       1    1  38.0      1      0  71.2833         1   \n",
       "2            3         1       3    1  26.0      0      0   7.9250         0   \n",
       "3            4         1       1    1  35.0      1      0  53.1000         0   \n",
       "4            5         0       3    0  35.0      0      0   8.0500         0   \n",
       "\n",
       "   Floor Code  \n",
       "0           0  \n",
       "1           3  \n",
       "2           0  \n",
       "3           3  \n",
       "4           0  "
      ]
     },
     "execution_count": 13,
     "metadata": {},
     "output_type": "execute_result"
    }
   ],
   "source": [
    "raw_train_drop.head()"
   ]
  },
  {
   "cell_type": "code",
   "execution_count": 14,
   "id": "a5432d88",
   "metadata": {
    "execution": {
     "iopub.execute_input": "2022-03-20T07:51:40.562269Z",
     "iopub.status.busy": "2022-03-20T07:51:40.561499Z",
     "iopub.status.idle": "2022-03-20T07:51:40.882478Z",
     "shell.execute_reply": "2022-03-20T07:51:40.883019Z",
     "shell.execute_reply.started": "2022-03-20T07:48:00.597584Z"
    },
    "papermill": {
     "duration": 0.382244,
     "end_time": "2022-03-20T07:51:40.883225",
     "exception": false,
     "start_time": "2022-03-20T07:51:40.500981",
     "status": "completed"
    },
    "tags": []
   },
   "outputs": [
    {
     "data": {
      "image/png": "[encoded data removed]",
      "text/plain": [
       "<Figure size 720x360 with 2 Axes>"
      ]
     },
     "metadata": {
      "needs_background": "light"
     },
     "output_type": "display_data"
    }
   ],
   "source": [
    "pd_all_data = pd.concat((raw_train_drop, raw_test_drop), axis=0)\n",
    "fig, axes = plt.subplots(1,2,figsize=(10,5))\n",
    "sns.boxplot(data=pd_all_data, x=\"Age\", ax=axes[0])\n",
    "sns.boxplot(data=pd_all_data, x=\"Fare\", ax=axes[1])\n",
    "plt.tight_layout()\n",
    "plt.show()"
   ]
  },
  {
   "cell_type": "code",
   "execution_count": 15,
   "id": "79973186",
   "metadata": {
    "execution": {
     "iopub.execute_input": "2022-03-20T07:51:40.999509Z",
     "iopub.status.busy": "2022-03-20T07:51:40.998779Z",
     "iopub.status.idle": "2022-03-20T07:51:41.209345Z",
     "shell.execute_reply": "2022-03-20T07:51:41.208761Z",
     "shell.execute_reply.started": "2022-03-20T07:48:00.905549Z"
    },
    "papermill": {
     "duration": 0.269884,
     "end_time": "2022-03-20T07:51:41.209505",
     "exception": false,
     "start_time": "2022-03-20T07:51:40.939621",
     "status": "completed"
    },
    "tags": []
   },
   "outputs": [
    {
     "data": {
      "image/png": "[encoded data removed]",
      "text/plain": [
       "<Figure size 432x288 with 1 Axes>"
      ]
     },
     "metadata": {
      "needs_background": "light"
     },
     "output_type": "display_data"
    }
   ],
   "source": [
    "sns.scatterplot(data=pd_all_data, x=\"Floor Code\", y=\"Fare\")\n",
    "plt.show()"
   ]
  },
  {
   "cell_type": "code",
   "execution_count": 16,
   "id": "1f4145a8",
   "metadata": {
    "execution": {
     "iopub.execute_input": "2022-03-20T07:51:41.336621Z",
     "iopub.status.busy": "2022-03-20T07:51:41.335734Z",
     "iopub.status.idle": "2022-03-20T07:51:41.735198Z",
     "shell.execute_reply": "2022-03-20T07:51:41.735757Z",
     "shell.execute_reply.started": "2022-03-20T07:48:01.467383Z"
    },
    "papermill": {
     "duration": 0.467065,
     "end_time": "2022-03-20T07:51:41.735950",
     "exception": false,
     "start_time": "2022-03-20T07:51:41.268885",
     "status": "completed"
    },
    "tags": []
   },
   "outputs": [
    {
     "data": {
      "image/png": "[encoded data removed]",
      "text/plain": [
       "<Figure size 720x360 with 2 Axes>"
      ]
     },
     "metadata": {
      "needs_background": "light"
     },
     "output_type": "display_data"
    }
   ],
   "source": [
    "fig, axes = plt.subplots(1,2,figsize=(10,5))\n",
    "sns.scatterplot(data=pd_all_data, x=\"Age\", y=\"Survived\", ax=axes[0])\n",
    "sns.scatterplot(data=pd_all_data, x=\"Fare\", y=\"Survived\", ax=axes[1])\n",
    "plt.tight_layout()\n",
    "plt.show()"
   ]
  },
  {
   "cell_type": "code",
   "execution_count": 17,
   "id": "a9b7a53d",
   "metadata": {
    "execution": {
     "iopub.execute_input": "2022-03-20T07:51:41.858760Z",
     "iopub.status.busy": "2022-03-20T07:51:41.858034Z",
     "iopub.status.idle": "2022-03-20T07:51:41.871430Z",
     "shell.execute_reply": "2022-03-20T07:51:41.872150Z",
     "shell.execute_reply.started": "2022-03-20T07:48:01.904347Z"
    },
    "papermill": {
     "duration": 0.077782,
     "end_time": "2022-03-20T07:51:41.872397",
     "exception": false,
     "start_time": "2022-03-20T07:51:41.794615",
     "status": "completed"
    },
    "tags": []
   },
   "outputs": [
    {
     "data": {
      "text/html": [
       "<div>\n",
       "<style scoped>\n",
       "    .dataframe tbody tr th:only-of-type {\n",
       "        vertical-align: middle;\n",
       "    }\n",
       "\n",
       "    .dataframe tbody tr th {\n",
       "        vertical-align: top;\n",
       "    }\n",
       "\n",
       "    .dataframe thead th {\n",
       "        text-align: right;\n",
       "    }\n",
       "</style>\n",
       "<table border=\"1\" class=\"dataframe\">\n",
       "  <thead>\n",
       "    <tr style=\"text-align: right;\">\n",
       "      <th></th>\n",
       "      <th>Survived</th>\n",
       "      <th>Age</th>\n",
       "      <th>Fare</th>\n",
       "    </tr>\n",
       "  </thead>\n",
       "  <tbody>\n",
       "    <tr>\n",
       "      <th>Survived</th>\n",
       "      <td>1.000000</td>\n",
       "      <td>-0.070323</td>\n",
       "      <td>0.257307</td>\n",
       "    </tr>\n",
       "    <tr>\n",
       "      <th>Age</th>\n",
       "      <td>-0.070323</td>\n",
       "      <td>1.000000</td>\n",
       "      <td>0.171521</td>\n",
       "    </tr>\n",
       "    <tr>\n",
       "      <th>Fare</th>\n",
       "      <td>0.257307</td>\n",
       "      <td>0.171521</td>\n",
       "      <td>1.000000</td>\n",
       "    </tr>\n",
       "  </tbody>\n",
       "</table>\n",
       "</div>"
      ],
      "text/plain": [
       "          Survived       Age      Fare\n",
       "Survived  1.000000 -0.070323  0.257307\n",
       "Age      -0.070323  1.000000  0.171521\n",
       "Fare      0.257307  0.171521  1.000000"
      ]
     },
     "execution_count": 17,
     "metadata": {},
     "output_type": "execute_result"
    }
   ],
   "source": [
    "pd_all_data[[\"Survived\",\"Age\",\"Fare\"]].corr()"
   ]
  },
  {
   "cell_type": "markdown",
   "id": "68d2abb7",
   "metadata": {
    "papermill": {
     "duration": 0.059534,
     "end_time": "2022-03-20T07:51:41.991542",
     "exception": false,
     "start_time": "2022-03-20T07:51:41.932008",
     "status": "completed"
    },
    "tags": []
   },
   "source": [
    "**With the poor correlation value between Survived and Age, I dropped the Age column**"
   ]
  },
  {
   "cell_type": "code",
   "execution_count": 18,
   "id": "bd282906",
   "metadata": {
    "execution": {
     "iopub.execute_input": "2022-03-20T07:51:42.130525Z",
     "iopub.status.busy": "2022-03-20T07:51:42.120051Z",
     "iopub.status.idle": "2022-03-20T07:51:42.135879Z",
     "shell.execute_reply": "2022-03-20T07:51:42.135137Z",
     "shell.execute_reply.started": "2022-03-20T07:48:01.927509Z"
    },
    "papermill": {
     "duration": 0.08424,
     "end_time": "2022-03-20T07:51:42.136070",
     "exception": false,
     "start_time": "2022-03-20T07:51:42.051830",
     "status": "completed"
    },
    "tags": []
   },
   "outputs": [
    {
     "data": {
      "text/html": [
       "<div>\n",
       "<style scoped>\n",
       "    .dataframe tbody tr th:only-of-type {\n",
       "        vertical-align: middle;\n",
       "    }\n",
       "\n",
       "    .dataframe tbody tr th {\n",
       "        vertical-align: top;\n",
       "    }\n",
       "\n",
       "    .dataframe thead th {\n",
       "        text-align: right;\n",
       "    }\n",
       "</style>\n",
       "<table border=\"1\" class=\"dataframe\">\n",
       "  <thead>\n",
       "    <tr style=\"text-align: right;\">\n",
       "      <th></th>\n",
       "      <th>PassengerId</th>\n",
       "      <th>Survived</th>\n",
       "      <th>Pclass</th>\n",
       "      <th>Sex</th>\n",
       "      <th>SibSp</th>\n",
       "      <th>Parch</th>\n",
       "      <th>Fare</th>\n",
       "      <th>Embarked</th>\n",
       "      <th>Floor Code</th>\n",
       "    </tr>\n",
       "  </thead>\n",
       "  <tbody>\n",
       "    <tr>\n",
       "      <th>0</th>\n",
       "      <td>1</td>\n",
       "      <td>0</td>\n",
       "      <td>3</td>\n",
       "      <td>0</td>\n",
       "      <td>1</td>\n",
       "      <td>0</td>\n",
       "      <td>7.2500</td>\n",
       "      <td>0</td>\n",
       "      <td>0</td>\n",
       "    </tr>\n",
       "    <tr>\n",
       "      <th>1</th>\n",
       "      <td>2</td>\n",
       "      <td>1</td>\n",
       "      <td>1</td>\n",
       "      <td>1</td>\n",
       "      <td>1</td>\n",
       "      <td>0</td>\n",
       "      <td>71.2833</td>\n",
       "      <td>1</td>\n",
       "      <td>3</td>\n",
       "    </tr>\n",
       "    <tr>\n",
       "      <th>2</th>\n",
       "      <td>3</td>\n",
       "      <td>1</td>\n",
       "      <td>3</td>\n",
       "      <td>1</td>\n",
       "      <td>0</td>\n",
       "      <td>0</td>\n",
       "      <td>7.9250</td>\n",
       "      <td>0</td>\n",
       "      <td>0</td>\n",
       "    </tr>\n",
       "    <tr>\n",
       "      <th>3</th>\n",
       "      <td>4</td>\n",
       "      <td>1</td>\n",
       "      <td>1</td>\n",
       "      <td>1</td>\n",
       "      <td>1</td>\n",
       "      <td>0</td>\n",
       "      <td>53.1000</td>\n",
       "      <td>0</td>\n",
       "      <td>3</td>\n",
       "    </tr>\n",
       "    <tr>\n",
       "      <th>4</th>\n",
       "      <td>5</td>\n",
       "      <td>0</td>\n",
       "      <td>3</td>\n",
       "      <td>0</td>\n",
       "      <td>0</td>\n",
       "      <td>0</td>\n",
       "      <td>8.0500</td>\n",
       "      <td>0</td>\n",
       "      <td>0</td>\n",
       "    </tr>\n",
       "  </tbody>\n",
       "</table>\n",
       "</div>"
      ],
      "text/plain": [
       "   PassengerId  Survived  Pclass  Sex  SibSp  Parch     Fare  Embarked  \\\n",
       "0            1         0       3    0      1      0   7.2500         0   \n",
       "1            2         1       1    1      1      0  71.2833         1   \n",
       "2            3         1       3    1      0      0   7.9250         0   \n",
       "3            4         1       1    1      1      0  53.1000         0   \n",
       "4            5         0       3    0      0      0   8.0500         0   \n",
       "\n",
       "   Floor Code  \n",
       "0           0  \n",
       "1           3  \n",
       "2           0  \n",
       "3           3  \n",
       "4           0  "
      ]
     },
     "execution_count": 18,
     "metadata": {},
     "output_type": "execute_result"
    }
   ],
   "source": [
    "cols_to_drop = [\"Age\"]\n",
    "raw_train_drop.drop(columns=cols_to_drop,inplace=True)\n",
    "raw_test_drop.drop(columns=cols_to_drop,inplace=True)\n",
    "\n",
    "raw_train_drop.head()"
   ]
  },
  {
   "cell_type": "markdown",
   "id": "c64398bf",
   "metadata": {
    "execution": {
     "iopub.execute_input": "2022-03-19T15:03:39.152045Z",
     "iopub.status.busy": "2022-03-19T15:03:39.151777Z",
     "iopub.status.idle": "2022-03-19T15:03:39.166013Z",
     "shell.execute_reply": "2022-03-19T15:03:39.165087Z",
     "shell.execute_reply.started": "2022-03-19T15:03:39.152017Z"
    },
    "papermill": {
     "duration": 0.059598,
     "end_time": "2022-03-20T07:51:42.257296",
     "exception": false,
     "start_time": "2022-03-20T07:51:42.197698",
     "status": "completed"
    },
    "tags": []
   },
   "source": [
    "**Applying one hot encoding to the categorical nominal variables and standard scaler to numeric data**"
   ]
  },
  {
   "cell_type": "code",
   "execution_count": 19,
   "id": "cd5777f2",
   "metadata": {
    "execution": {
     "iopub.execute_input": "2022-03-20T07:51:42.383971Z",
     "iopub.status.busy": "2022-03-20T07:51:42.383220Z",
     "iopub.status.idle": "2022-03-20T07:51:42.529406Z",
     "shell.execute_reply": "2022-03-20T07:51:42.529969Z",
     "shell.execute_reply.started": "2022-03-20T07:48:01.954746Z"
    },
    "papermill": {
     "duration": 0.212275,
     "end_time": "2022-03-20T07:51:42.530185",
     "exception": false,
     "start_time": "2022-03-20T07:51:42.317910",
     "status": "completed"
    },
    "tags": []
   },
   "outputs": [],
   "source": [
    "from sklearn import preprocessing\n",
    "from sklearn.preprocessing import StandardScaler\n",
    "from sklearn.preprocessing import OneHotEncoder"
   ]
  },
  {
   "cell_type": "code",
   "execution_count": 20,
   "id": "ba59dc92",
   "metadata": {
    "execution": {
     "iopub.execute_input": "2022-03-20T07:51:42.659037Z",
     "iopub.status.busy": "2022-03-20T07:51:42.658284Z",
     "iopub.status.idle": "2022-03-20T07:51:42.661616Z",
     "shell.execute_reply": "2022-03-20T07:51:42.662170Z",
     "shell.execute_reply.started": "2022-03-20T07:48:01.962368Z"
    },
    "papermill": {
     "duration": 0.070133,
     "end_time": "2022-03-20T07:51:42.662377",
     "exception": false,
     "start_time": "2022-03-20T07:51:42.592244",
     "status": "completed"
    },
    "tags": []
   },
   "outputs": [
    {
     "data": {
      "text/plain": [
       "Index(['PassengerId', 'Survived', 'Pclass', 'Sex', 'SibSp', 'Parch', 'Fare',\n",
       "       'Embarked', 'Floor Code'],\n",
       "      dtype='object')"
      ]
     },
     "execution_count": 20,
     "metadata": {},
     "output_type": "execute_result"
    }
   ],
   "source": [
    "raw_train_drop.columns"
   ]
  },
  {
   "cell_type": "code",
   "execution_count": 21,
   "id": "5b89f949",
   "metadata": {
    "execution": {
     "iopub.execute_input": "2022-03-20T07:51:42.799041Z",
     "iopub.status.busy": "2022-03-20T07:51:42.798271Z",
     "iopub.status.idle": "2022-03-20T07:51:42.805286Z",
     "shell.execute_reply": "2022-03-20T07:51:42.805871Z",
     "shell.execute_reply.started": "2022-03-20T07:48:01.979254Z"
    },
    "papermill": {
     "duration": 0.081691,
     "end_time": "2022-03-20T07:51:42.806071",
     "exception": false,
     "start_time": "2022-03-20T07:51:42.724380",
     "status": "completed"
    },
    "tags": []
   },
   "outputs": [
    {
     "data": {
      "text/plain": [
       "StandardScaler()"
      ]
     },
     "execution_count": 21,
     "metadata": {},
     "output_type": "execute_result"
    }
   ],
   "source": [
    "onehot = OneHotEncoder()\n",
    "scaler = StandardScaler()\n",
    "\n",
    "nominal_cols = ['Pclass', 'Sex', 'SibSp', 'Parch','Embarked', 'Floor Code']\n",
    "other_cols = ['Fare']\n",
    "\n",
    "pd_all_data = pd.concat((raw_train_drop, raw_test_drop), axis=0)\n",
    "\n",
    "onehot.fit(pd_all_data[nominal_cols])\n",
    "scaler.fit(pd_all_data[other_cols])"
   ]
  },
  {
   "cell_type": "code",
   "execution_count": 22,
   "id": "1ea58e9f",
   "metadata": {
    "execution": {
     "iopub.execute_input": "2022-03-20T07:51:42.934282Z",
     "iopub.status.busy": "2022-03-20T07:51:42.933564Z",
     "iopub.status.idle": "2022-03-20T07:51:42.942957Z",
     "shell.execute_reply": "2022-03-20T07:51:42.943603Z",
     "shell.execute_reply.started": "2022-03-20T07:48:02.002468Z"
    },
    "papermill": {
     "duration": 0.076126,
     "end_time": "2022-03-20T07:51:42.943799",
     "exception": false,
     "start_time": "2022-03-20T07:51:42.867673",
     "status": "completed"
    },
    "tags": []
   },
   "outputs": [
    {
     "data": {
      "text/plain": [
       "PassengerId    0\n",
       "Pclass         0\n",
       "Sex            0\n",
       "SibSp          0\n",
       "Parch          0\n",
       "Fare           0\n",
       "Embarked       0\n",
       "Floor Code     0\n",
       "dtype: int64"
      ]
     },
     "execution_count": 22,
     "metadata": {},
     "output_type": "execute_result"
    }
   ],
   "source": [
    "raw_test_drop.isna().sum()"
   ]
  },
  {
   "cell_type": "code",
   "execution_count": 23,
   "id": "6f9f201a",
   "metadata": {
    "execution": {
     "iopub.execute_input": "2022-03-20T07:51:43.073607Z",
     "iopub.status.busy": "2022-03-20T07:51:43.072902Z",
     "iopub.status.idle": "2022-03-20T07:51:43.077877Z",
     "shell.execute_reply": "2022-03-20T07:51:43.078442Z",
     "shell.execute_reply.started": "2022-03-20T07:48:02.016189Z"
    },
    "papermill": {
     "duration": 0.071021,
     "end_time": "2022-03-20T07:51:43.078697",
     "exception": false,
     "start_time": "2022-03-20T07:51:43.007676",
     "status": "completed"
    },
    "tags": []
   },
   "outputs": [],
   "source": [
    "def get_selected_data(pd_data):\n",
    "    nominal_col_feature = onehot.transform(pd_data[nominal_cols]).toarray()\n",
    "    other_col_feature = scaler.transform(pd_data[other_cols])\n",
    "    x = np.concatenate((nominal_col_feature,  other_col_feature),axis=1)\n",
    "    y = raw_train_drop[\"Survived\"]\n",
    "    return x,y"
   ]
  },
  {
   "cell_type": "code",
   "execution_count": 24,
   "id": "c79cda3d",
   "metadata": {
    "execution": {
     "iopub.execute_input": "2022-03-20T07:51:43.208725Z",
     "iopub.status.busy": "2022-03-20T07:51:43.208023Z",
     "iopub.status.idle": "2022-03-20T07:51:43.262189Z",
     "shell.execute_reply": "2022-03-20T07:51:43.262804Z",
     "shell.execute_reply.started": "2022-03-20T07:48:02.025855Z"
    },
    "papermill": {
     "duration": 0.121204,
     "end_time": "2022-03-20T07:51:43.263013",
     "exception": false,
     "start_time": "2022-03-20T07:51:43.141809",
     "status": "completed"
    },
    "tags": []
   },
   "outputs": [],
   "source": [
    "from sklearn.model_selection import train_test_split"
   ]
  },
  {
   "cell_type": "code",
   "execution_count": 25,
   "id": "c5c09e3c",
   "metadata": {
    "execution": {
     "iopub.execute_input": "2022-03-20T07:51:43.390435Z",
     "iopub.status.busy": "2022-03-20T07:51:43.389736Z",
     "iopub.status.idle": "2022-03-20T07:51:43.406729Z",
     "shell.execute_reply": "2022-03-20T07:51:43.407264Z",
     "shell.execute_reply.started": "2022-03-20T07:48:02.038228Z"
    },
    "papermill": {
     "duration": 0.082895,
     "end_time": "2022-03-20T07:51:43.407487",
     "exception": false,
     "start_time": "2022-03-20T07:51:43.324592",
     "status": "completed"
    },
    "tags": []
   },
   "outputs": [],
   "source": [
    "x_train,y_train = get_selected_data(raw_train_drop)\n",
    "x_test,_ = get_selected_data(raw_test_drop)\n",
    "\n",
    "x_train_split, x_val_split, y_train_split, y_val_split = train_test_split(x_train, y_train, test_size=0.2, random_state=5)"
   ]
  },
  {
   "cell_type": "code",
   "execution_count": 26,
   "id": "03ff6afd",
   "metadata": {
    "execution": {
     "iopub.execute_input": "2022-03-20T07:51:43.537792Z",
     "iopub.status.busy": "2022-03-20T07:51:43.537061Z",
     "iopub.status.idle": "2022-03-20T07:51:43.704256Z",
     "shell.execute_reply": "2022-03-20T07:51:43.703493Z",
     "shell.execute_reply.started": "2022-03-20T07:48:02.068118Z"
    },
    "papermill": {
     "duration": 0.234484,
     "end_time": "2022-03-20T07:51:43.704441",
     "exception": false,
     "start_time": "2022-03-20T07:51:43.469957",
     "status": "completed"
    },
    "tags": []
   },
   "outputs": [],
   "source": [
    "from sklearn.model_selection import GridSearchCV\n",
    "# Logistic Regression classification algorithm\n",
    "from sklearn.linear_model import LogisticRegression\n",
    "# Support Vector Machine classification algorithm\n",
    "from sklearn.svm import SVC\n",
    "# Decision Tree classification algorithm\n",
    "from sklearn.tree import DecisionTreeClassifier\n",
    "# K Nearest Neighbors classification algorithm\n",
    "from sklearn.neighbors import KNeighborsClassifier\n",
    "from sklearn.metrics import jaccard_score, f1_score"
   ]
  },
  {
   "cell_type": "code",
   "execution_count": 27,
   "id": "1dbf6d43",
   "metadata": {
    "execution": {
     "iopub.execute_input": "2022-03-20T07:51:43.837257Z",
     "iopub.status.busy": "2022-03-20T07:51:43.836119Z",
     "iopub.status.idle": "2022-03-20T07:51:43.841471Z",
     "shell.execute_reply": "2022-03-20T07:51:43.842086Z",
     "shell.execute_reply.started": "2022-03-20T07:48:02.077401Z"
    },
    "papermill": {
     "duration": 0.073165,
     "end_time": "2022-03-20T07:51:43.842275",
     "exception": false,
     "start_time": "2022-03-20T07:51:43.769110",
     "status": "completed"
    },
    "tags": []
   },
   "outputs": [],
   "source": [
    "def checkValidation(y_valid, y_valid_pred):\n",
    "    f1_scr = f1_score(y_valid, y_valid_pred, average='weighted')\n",
    "    jc_scr = jaccard_score(y_valid, y_valid_pred,pos_label=0)\n",
    "    \n",
    "    return jc_scr, f1_scr"
   ]
  },
  {
   "cell_type": "code",
   "execution_count": 28,
   "id": "6185237a",
   "metadata": {
    "execution": {
     "iopub.execute_input": "2022-03-20T07:51:43.971266Z",
     "iopub.status.busy": "2022-03-20T07:51:43.970160Z",
     "iopub.status.idle": "2022-03-20T07:51:43.977935Z",
     "shell.execute_reply": "2022-03-20T07:51:43.977280Z",
     "shell.execute_reply.started": "2022-03-20T07:48:02.088920Z"
    },
    "papermill": {
     "duration": 0.072802,
     "end_time": "2022-03-20T07:51:43.978095",
     "exception": false,
     "start_time": "2022-03-20T07:51:43.905293",
     "status": "completed"
    },
    "tags": []
   },
   "outputs": [],
   "source": [
    "def plot_confusion_matrix(y,y_predict):\n",
    "    \"this function plots the confusion matrix\"\n",
    "    from sklearn.metrics import confusion_matrix\n",
    "\n",
    "    cm = confusion_matrix(y, y_predict)\n",
    "    ax= plt.subplot()\n",
    "    sns.heatmap(cm, annot=True, ax = ax); #annot=True to annotate cells\n",
    "    ax.set_xlabel('Predicted labels')\n",
    "    ax.set_ylabel('True labels')\n",
    "    ax.set_title('Confusion Matrix'); \n",
    "    ax.xaxis.set_ticklabels(['Not Survive', 'Survived']); ax.yaxis.set_ticklabels(['Not Survive', 'Survived'])"
   ]
  },
  {
   "cell_type": "code",
   "execution_count": 29,
   "id": "80cc3900",
   "metadata": {
    "execution": {
     "iopub.execute_input": "2022-03-20T07:51:44.110293Z",
     "iopub.status.busy": "2022-03-20T07:51:44.109401Z",
     "iopub.status.idle": "2022-03-20T07:51:44.112405Z",
     "shell.execute_reply": "2022-03-20T07:51:44.111791Z",
     "shell.execute_reply.started": "2022-03-20T07:48:02.103848Z"
    },
    "papermill": {
     "duration": 0.071414,
     "end_time": "2022-03-20T07:51:44.112562",
     "exception": false,
     "start_time": "2022-03-20T07:51:44.041148",
     "status": "completed"
    },
    "tags": []
   },
   "outputs": [],
   "source": [
    "summary_prediction = [];"
   ]
  },
  {
   "cell_type": "code",
   "execution_count": 30,
   "id": "0231fba1",
   "metadata": {
    "execution": {
     "iopub.execute_input": "2022-03-20T07:51:44.249189Z",
     "iopub.status.busy": "2022-03-20T07:51:44.248443Z",
     "iopub.status.idle": "2022-03-20T07:51:44.353377Z",
     "shell.execute_reply": "2022-03-20T07:51:44.352634Z",
     "shell.execute_reply.started": "2022-03-20T07:48:02.116157Z"
    },
    "papermill": {
     "duration": 0.178507,
     "end_time": "2022-03-20T07:51:44.353565",
     "exception": false,
     "start_time": "2022-03-20T07:51:44.175058",
     "status": "completed"
    },
    "tags": []
   },
   "outputs": [
    {
     "name": "stdout",
     "output_type": "stream",
     "text": [
      "tuned hpyerparameters :(best parameters)  {'C': 0.1, 'penalty': 'l2', 'solver': 'liblinear'}\n",
      "accuracy : 0.7878912363067293\n"
     ]
    }
   ],
   "source": [
    "parameters ={\"C\":[0.01,0.1,1],'penalty':['l2'], 'solver':['liblinear']}# l1 lasso l2 ridge\n",
    "lr=LogisticRegression()\n",
    "\n",
    "logreg_cv = GridSearchCV(lr, parameters,cv=10)\n",
    "logreg_cv.fit(x_train_split,y_train_split)\n",
    "pred = logreg_cv.predict(x_val_split)\n",
    "jc_scr, f1_scr = checkValidation(y_val_split, pred)\n",
    "summary_prediction.append(['Logistics Regression',jc_scr, f1_scr])\n",
    "print(\"tuned hpyerparameters :(best parameters) \",logreg_cv.best_params_)\n",
    "print(\"accuracy :\",logreg_cv.best_score_)"
   ]
  },
  {
   "cell_type": "code",
   "execution_count": 31,
   "id": "95863d1d",
   "metadata": {
    "execution": {
     "iopub.execute_input": "2022-03-20T07:51:44.532266Z",
     "iopub.status.busy": "2022-03-20T07:51:44.486490Z",
     "iopub.status.idle": "2022-03-20T07:51:44.763855Z",
     "shell.execute_reply": "2022-03-20T07:51:44.764404Z",
     "shell.execute_reply.started": "2022-03-20T07:48:02.217996Z"
    },
    "papermill": {
     "duration": 0.347952,
     "end_time": "2022-03-20T07:51:44.764597",
     "exception": false,
     "start_time": "2022-03-20T07:51:44.416645",
     "status": "completed"
    },
    "tags": []
   },
   "outputs": [
    {
     "data": {
      "image/png": "[encoded data removed]",
      "text/plain": [
       "<Figure size 432x288 with 2 Axes>"
      ]
     },
     "metadata": {
      "needs_background": "light"
     },
     "output_type": "display_data"
    }
   ],
   "source": [
    "yhatl=logreg_cv.predict(x_val_split)\n",
    "plot_confusion_matrix(y_val_split,yhatl)"
   ]
  },
  {
   "cell_type": "code",
   "execution_count": 32,
   "id": "3791702a",
   "metadata": {
    "execution": {
     "iopub.execute_input": "2022-03-20T07:51:44.903180Z",
     "iopub.status.busy": "2022-03-20T07:51:44.902443Z",
     "iopub.status.idle": "2022-03-20T07:51:59.657063Z",
     "shell.execute_reply": "2022-03-20T07:51:59.656283Z",
     "shell.execute_reply.started": "2022-03-20T07:48:02.485383Z"
    },
    "papermill": {
     "duration": 14.829373,
     "end_time": "2022-03-20T07:51:59.657241",
     "exception": false,
     "start_time": "2022-03-20T07:51:44.827868",
     "status": "completed"
    },
    "tags": []
   },
   "outputs": [
    {
     "name": "stdout",
     "output_type": "stream",
     "text": [
      "tuned hpyerparameters :(best parameters)  {'criterion': 'gini', 'max_depth': 14, 'max_features': 'auto', 'min_samples_leaf': 2, 'min_samples_split': 2, 'splitter': 'random'}\n",
      "accuracy : 0.80481220657277\n"
     ]
    }
   ],
   "source": [
    "parameters = {'criterion': ['gini', 'entropy'],\n",
    "     'splitter': ['best', 'random'],\n",
    "     'max_depth': [2*n for n in range(1,10)],\n",
    "     'max_features': ['auto', 'sqrt'],\n",
    "     'min_samples_leaf': [1, 2, 4],\n",
    "     'min_samples_split': [2, 5, 10]}\n",
    "\n",
    "tree = DecisionTreeClassifier()\n",
    "tree_cv = GridSearchCV(tree, parameters,cv=10)\n",
    "tree_cv.fit(x_train_split,y_train_split)\n",
    "pred = tree_cv.predict(x_val_split)\n",
    "jc_scr, f1_scr = checkValidation(y_val_split, pred)\n",
    "summary_prediction.append(['Decision Tree',jc_scr, f1_scr])\n",
    "print(\"tuned hpyerparameters :(best parameters) \",tree_cv.best_params_)\n",
    "print(\"accuracy :\",tree_cv.best_score_)"
   ]
  },
  {
   "cell_type": "markdown",
   "id": "ff843190",
   "metadata": {
    "papermill": {
     "duration": 0.065084,
     "end_time": "2022-03-20T07:51:59.786582",
     "exception": false,
     "start_time": "2022-03-20T07:51:59.721498",
     "status": "completed"
    },
    "tags": []
   },
   "source": []
  },
  {
   "cell_type": "code",
   "execution_count": 33,
   "id": "4016c66f",
   "metadata": {
    "execution": {
     "iopub.execute_input": "2022-03-20T07:51:59.974271Z",
     "iopub.status.busy": "2022-03-20T07:51:59.922087Z",
     "iopub.status.idle": "2022-03-20T07:52:00.156073Z",
     "shell.execute_reply": "2022-03-20T07:52:00.155379Z",
     "shell.execute_reply.started": "2022-03-20T07:48:15.727642Z"
    },
    "papermill": {
     "duration": 0.304252,
     "end_time": "2022-03-20T07:52:00.156232",
     "exception": false,
     "start_time": "2022-03-20T07:51:59.851980",
     "status": "completed"
    },
    "tags": []
   },
   "outputs": [
    {
     "data": {
      "image/png": "[encoded data removed]",
      "text/plain": [
       "<Figure size 432x288 with 2 Axes>"
      ]
     },
     "metadata": {
      "needs_background": "light"
     },
     "output_type": "display_data"
    }
   ],
   "source": [
    "yhatt=tree_cv.predict(x_val_split)\n",
    "plot_confusion_matrix(y_val_split,yhatt)"
   ]
  },
  {
   "cell_type": "code",
   "execution_count": 34,
   "id": "89771980",
   "metadata": {
    "execution": {
     "iopub.execute_input": "2022-03-20T07:52:00.299370Z",
     "iopub.status.busy": "2022-03-20T07:52:00.298200Z",
     "iopub.status.idle": "2022-03-20T07:52:16.279795Z",
     "shell.execute_reply": "2022-03-20T07:52:16.281726Z",
     "shell.execute_reply.started": "2022-03-20T07:48:15.999112Z"
    },
    "papermill": {
     "duration": 16.060267,
     "end_time": "2022-03-20T07:52:16.282159",
     "exception": false,
     "start_time": "2022-03-20T07:52:00.221892",
     "status": "completed"
    },
    "tags": []
   },
   "outputs": [
    {
     "name": "stdout",
     "output_type": "stream",
     "text": [
      "tuned hpyerparameters :(best parameters)  {'algorithm': 'kd_tree', 'n_neighbors': 17, 'p': 1}\n",
      "accuracy : 0.7920970266040689\n"
     ]
    }
   ],
   "source": [
    "parameters = {'n_neighbors': [n for n in range(1,20)],\n",
    "              'algorithm': ['auto', 'ball_tree', 'kd_tree', 'brute'],\n",
    "              'p': [1,2]}\n",
    "\n",
    "KNN = KNeighborsClassifier()\n",
    "knn_cv = GridSearchCV(KNN, parameters,cv=10)\n",
    "knn_cv.fit(x_train_split,y_train_split)\n",
    "pred = knn_cv.predict(x_val_split)\n",
    "jc_scr, f1_scr = checkValidation(y_val_split, pred)\n",
    "summary_prediction.append(['K Nearest Neighbor',jc_scr, f1_scr])\n",
    "print(\"tuned hpyerparameters :(best parameters) \",knn_cv.best_params_)\n",
    "print(\"accuracy :\",knn_cv.best_score_)"
   ]
  },
  {
   "cell_type": "code",
   "execution_count": 35,
   "id": "f812baaa",
   "metadata": {
    "execution": {
     "iopub.execute_input": "2022-03-20T07:52:16.447686Z",
     "iopub.status.busy": "2022-03-20T07:52:16.446973Z",
     "iopub.status.idle": "2022-03-20T07:52:16.739564Z",
     "shell.execute_reply": "2022-03-20T07:52:16.738630Z",
     "shell.execute_reply.started": "2022-03-20T07:48:31.540155Z"
    },
    "papermill": {
     "duration": 0.365257,
     "end_time": "2022-03-20T07:52:16.739725",
     "exception": false,
     "start_time": "2022-03-20T07:52:16.374468",
     "status": "completed"
    },
    "tags": []
   },
   "outputs": [
    {
     "data": {
      "image/png": "[encoded data removed]",
      "text/plain": [
       "<Figure size 432x288 with 2 Axes>"
      ]
     },
     "metadata": {
      "needs_background": "light"
     },
     "output_type": "display_data"
    }
   ],
   "source": [
    "yhatk=knn_cv.predict(x_val_split)\n",
    "plot_confusion_matrix(y_val_split,yhatk)"
   ]
  },
  {
   "cell_type": "code",
   "execution_count": 36,
   "id": "d423bdf6",
   "metadata": {
    "execution": {
     "iopub.execute_input": "2022-03-20T07:52:16.876910Z",
     "iopub.status.busy": "2022-03-20T07:52:16.875828Z",
     "iopub.status.idle": "2022-03-20T07:52:16.909381Z",
     "shell.execute_reply": "2022-03-20T07:52:16.909895Z",
     "shell.execute_reply.started": "2022-03-20T07:48:31.826692Z"
    },
    "papermill": {
     "duration": 0.103976,
     "end_time": "2022-03-20T07:52:16.910106",
     "exception": false,
     "start_time": "2022-03-20T07:52:16.806130",
     "status": "completed"
    },
    "tags": []
   },
   "outputs": [],
   "source": [
    "svm = SVC()\n",
    "svm.fit(x_train_split,y_train_split)\n",
    "pred = svm.predict(x_val_split)\n",
    "jc_scr, f1_scr = checkValidation(y_val_split, pred)\n",
    "summary_prediction.append(['Support Vector Machine',jc_scr, f1_scr])"
   ]
  },
  {
   "cell_type": "code",
   "execution_count": 37,
   "id": "d4d79a18",
   "metadata": {
    "execution": {
     "iopub.execute_input": "2022-03-20T07:52:17.050057Z",
     "iopub.status.busy": "2022-03-20T07:52:17.047533Z",
     "iopub.status.idle": "2022-03-20T07:52:17.337512Z",
     "shell.execute_reply": "2022-03-20T07:52:17.336162Z",
     "shell.execute_reply.started": "2022-03-20T07:48:31.863497Z"
    },
    "papermill": {
     "duration": 0.359644,
     "end_time": "2022-03-20T07:52:17.337696",
     "exception": false,
     "start_time": "2022-03-20T07:52:16.978052",
     "status": "completed"
    },
    "tags": []
   },
   "outputs": [
    {
     "data": {
      "image/png": "[encoded data removed]",
      "text/plain": [
       "<Figure size 432x288 with 2 Axes>"
      ]
     },
     "metadata": {
      "needs_background": "light"
     },
     "output_type": "display_data"
    }
   ],
   "source": [
    "yhats=svm.predict(x_val_split)\n",
    "plot_confusion_matrix(y_val_split,yhats)"
   ]
  },
  {
   "cell_type": "code",
   "execution_count": 38,
   "id": "5af8bcd0",
   "metadata": {
    "execution": {
     "iopub.execute_input": "2022-03-20T07:52:17.477474Z",
     "iopub.status.busy": "2022-03-20T07:52:17.476753Z",
     "iopub.status.idle": "2022-03-20T07:52:17.489568Z",
     "shell.execute_reply": "2022-03-20T07:52:17.490233Z",
     "shell.execute_reply.started": "2022-03-20T07:48:32.130980Z"
    },
    "papermill": {
     "duration": 0.084085,
     "end_time": "2022-03-20T07:52:17.490457",
     "exception": false,
     "start_time": "2022-03-20T07:52:17.406372",
     "status": "completed"
    },
    "tags": []
   },
   "outputs": [
    {
     "data": {
      "text/html": [
       "<div>\n",
       "<style scoped>\n",
       "    .dataframe tbody tr th:only-of-type {\n",
       "        vertical-align: middle;\n",
       "    }\n",
       "\n",
       "    .dataframe tbody tr th {\n",
       "        vertical-align: top;\n",
       "    }\n",
       "\n",
       "    .dataframe thead th {\n",
       "        text-align: right;\n",
       "    }\n",
       "</style>\n",
       "<table border=\"1\" class=\"dataframe\">\n",
       "  <thead>\n",
       "    <tr style=\"text-align: right;\">\n",
       "      <th></th>\n",
       "      <th>jaccard_score</th>\n",
       "      <th>f1_score</th>\n",
       "    </tr>\n",
       "    <tr>\n",
       "      <th>method</th>\n",
       "      <th></th>\n",
       "      <th></th>\n",
       "    </tr>\n",
       "  </thead>\n",
       "  <tbody>\n",
       "    <tr>\n",
       "      <th>Logistics Regression</th>\n",
       "      <td>0.757576</td>\n",
       "      <td>0.817988</td>\n",
       "    </tr>\n",
       "    <tr>\n",
       "      <th>Decision Tree</th>\n",
       "      <td>0.753731</td>\n",
       "      <td>0.810999</td>\n",
       "    </tr>\n",
       "    <tr>\n",
       "      <th>K Nearest Neighbor</th>\n",
       "      <td>0.759398</td>\n",
       "      <td>0.817163</td>\n",
       "    </tr>\n",
       "    <tr>\n",
       "      <th>Support Vector Machine</th>\n",
       "      <td>0.781955</td>\n",
       "      <td>0.833074</td>\n",
       "    </tr>\n",
       "  </tbody>\n",
       "</table>\n",
       "</div>"
      ],
      "text/plain": [
       "                        jaccard_score  f1_score\n",
       "method                                         \n",
       "Logistics Regression         0.757576  0.817988\n",
       "Decision Tree                0.753731  0.810999\n",
       "K Nearest Neighbor           0.759398  0.817163\n",
       "Support Vector Machine       0.781955  0.833074"
      ]
     },
     "execution_count": 38,
     "metadata": {},
     "output_type": "execute_result"
    }
   ],
   "source": [
    "pd_summary_prediction = pd.DataFrame(data=summary_prediction, columns=['method','jaccard_score','f1_score'])\n",
    "pd_summary_prediction.set_index('method', inplace=True)\n",
    "pd_summary_prediction.head()"
   ]
  },
  {
   "cell_type": "code",
   "execution_count": 39,
   "id": "d6927fe7",
   "metadata": {
    "execution": {
     "iopub.execute_input": "2022-03-20T07:52:17.631294Z",
     "iopub.status.busy": "2022-03-20T07:52:17.630554Z",
     "iopub.status.idle": "2022-03-20T07:52:17.667175Z",
     "shell.execute_reply": "2022-03-20T07:52:17.667757Z",
     "shell.execute_reply.started": "2022-03-20T07:48:32.148295Z"
    },
    "papermill": {
     "duration": 0.109419,
     "end_time": "2022-03-20T07:52:17.667977",
     "exception": false,
     "start_time": "2022-03-20T07:52:17.558558",
     "status": "completed"
    },
    "tags": []
   },
   "outputs": [
    {
     "data": {
      "text/plain": [
       "SVC()"
      ]
     },
     "execution_count": 39,
     "metadata": {},
     "output_type": "execute_result"
    }
   ],
   "source": [
    "selected_model = SVC()\n",
    "selected_model.fit(x_train, y_train)"
   ]
  },
  {
   "cell_type": "code",
   "execution_count": 40,
   "id": "bad3b8f5",
   "metadata": {
    "execution": {
     "iopub.execute_input": "2022-03-20T07:52:17.810632Z",
     "iopub.status.busy": "2022-03-20T07:52:17.809891Z",
     "iopub.status.idle": "2022-03-20T07:52:17.842892Z",
     "shell.execute_reply": "2022-03-20T07:52:17.843596Z",
     "shell.execute_reply.started": "2022-03-20T07:48:32.191763Z"
    },
    "papermill": {
     "duration": 0.10408,
     "end_time": "2022-03-20T07:52:17.843786",
     "exception": false,
     "start_time": "2022-03-20T07:52:17.739706",
     "status": "completed"
    },
    "tags": []
   },
   "outputs": [
    {
     "data": {
      "text/html": [
       "<div>\n",
       "<style scoped>\n",
       "    .dataframe tbody tr th:only-of-type {\n",
       "        vertical-align: middle;\n",
       "    }\n",
       "\n",
       "    .dataframe tbody tr th {\n",
       "        vertical-align: top;\n",
       "    }\n",
       "\n",
       "    .dataframe thead th {\n",
       "        text-align: right;\n",
       "    }\n",
       "</style>\n",
       "<table border=\"1\" class=\"dataframe\">\n",
       "  <thead>\n",
       "    <tr style=\"text-align: right;\">\n",
       "      <th></th>\n",
       "      <th>PassengerId</th>\n",
       "      <th>Pclass</th>\n",
       "      <th>Name</th>\n",
       "      <th>Sex</th>\n",
       "      <th>Age</th>\n",
       "      <th>SibSp</th>\n",
       "      <th>Parch</th>\n",
       "      <th>Ticket</th>\n",
       "      <th>Fare</th>\n",
       "      <th>Cabin</th>\n",
       "      <th>Embarked</th>\n",
       "      <th>Survived</th>\n",
       "    </tr>\n",
       "  </thead>\n",
       "  <tbody>\n",
       "    <tr>\n",
       "      <th>0</th>\n",
       "      <td>892</td>\n",
       "      <td>3</td>\n",
       "      <td>Kelly, Mr. James</td>\n",
       "      <td>male</td>\n",
       "      <td>34.5</td>\n",
       "      <td>0</td>\n",
       "      <td>0</td>\n",
       "      <td>330911</td>\n",
       "      <td>7.8292</td>\n",
       "      <td>NaN</td>\n",
       "      <td>Q</td>\n",
       "      <td>0</td>\n",
       "    </tr>\n",
       "    <tr>\n",
       "      <th>1</th>\n",
       "      <td>893</td>\n",
       "      <td>3</td>\n",
       "      <td>Wilkes, Mrs. James (Ellen Needs)</td>\n",
       "      <td>female</td>\n",
       "      <td>47.0</td>\n",
       "      <td>1</td>\n",
       "      <td>0</td>\n",
       "      <td>363272</td>\n",
       "      <td>7.0000</td>\n",
       "      <td>NaN</td>\n",
       "      <td>S</td>\n",
       "      <td>0</td>\n",
       "    </tr>\n",
       "    <tr>\n",
       "      <th>2</th>\n",
       "      <td>894</td>\n",
       "      <td>2</td>\n",
       "      <td>Myles, Mr. Thomas Francis</td>\n",
       "      <td>male</td>\n",
       "      <td>62.0</td>\n",
       "      <td>0</td>\n",
       "      <td>0</td>\n",
       "      <td>240276</td>\n",
       "      <td>9.6875</td>\n",
       "      <td>NaN</td>\n",
       "      <td>Q</td>\n",
       "      <td>0</td>\n",
       "    </tr>\n",
       "    <tr>\n",
       "      <th>3</th>\n",
       "      <td>895</td>\n",
       "      <td>3</td>\n",
       "      <td>Wirz, Mr. Albert</td>\n",
       "      <td>male</td>\n",
       "      <td>27.0</td>\n",
       "      <td>0</td>\n",
       "      <td>0</td>\n",
       "      <td>315154</td>\n",
       "      <td>8.6625</td>\n",
       "      <td>NaN</td>\n",
       "      <td>S</td>\n",
       "      <td>0</td>\n",
       "    </tr>\n",
       "    <tr>\n",
       "      <th>4</th>\n",
       "      <td>896</td>\n",
       "      <td>3</td>\n",
       "      <td>Hirvonen, Mrs. Alexander (Helga E Lindqvist)</td>\n",
       "      <td>female</td>\n",
       "      <td>22.0</td>\n",
       "      <td>1</td>\n",
       "      <td>1</td>\n",
       "      <td>3101298</td>\n",
       "      <td>12.2875</td>\n",
       "      <td>NaN</td>\n",
       "      <td>S</td>\n",
       "      <td>0</td>\n",
       "    </tr>\n",
       "  </tbody>\n",
       "</table>\n",
       "</div>"
      ],
      "text/plain": [
       "   PassengerId  Pclass                                          Name     Sex  \\\n",
       "0          892       3                              Kelly, Mr. James    male   \n",
       "1          893       3              Wilkes, Mrs. James (Ellen Needs)  female   \n",
       "2          894       2                     Myles, Mr. Thomas Francis    male   \n",
       "3          895       3                              Wirz, Mr. Albert    male   \n",
       "4          896       3  Hirvonen, Mrs. Alexander (Helga E Lindqvist)  female   \n",
       "\n",
       "    Age  SibSp  Parch   Ticket     Fare Cabin Embarked  Survived  \n",
       "0  34.5      0      0   330911   7.8292   NaN        Q         0  \n",
       "1  47.0      1      0   363272   7.0000   NaN        S         0  \n",
       "2  62.0      0      0   240276   9.6875   NaN        Q         0  \n",
       "3  27.0      0      0   315154   8.6625   NaN        S         0  \n",
       "4  22.0      1      1  3101298  12.2875   NaN        S         0  "
      ]
     },
     "execution_count": 40,
     "metadata": {},
     "output_type": "execute_result"
    }
   ],
   "source": [
    "numerical_feature = selected_model.predict(x_test)\n",
    "data_test_predict = raw_test.copy()\n",
    "data_test_predict['Survived'] = numerical_feature\n",
    "data_test_predict.head()"
   ]
  },
  {
   "cell_type": "code",
   "execution_count": 41,
   "id": "5250e7de",
   "metadata": {
    "execution": {
     "iopub.execute_input": "2022-03-20T07:52:17.985743Z",
     "iopub.status.busy": "2022-03-20T07:52:17.984605Z",
     "iopub.status.idle": "2022-03-20T07:52:17.993728Z",
     "shell.execute_reply": "2022-03-20T07:52:17.994304Z",
     "shell.execute_reply.started": "2022-03-20T07:49:59.590886Z"
    },
    "papermill": {
     "duration": 0.083024,
     "end_time": "2022-03-20T07:52:17.994553",
     "exception": false,
     "start_time": "2022-03-20T07:52:17.911529",
     "status": "completed"
    },
    "tags": []
   },
   "outputs": [],
   "source": [
    "submission = data_test_predict[['PassengerId', 'Survived']]\n",
    "submission.to_csv('./submission.csv', index=False)"
   ]
  },
  {
   "cell_type": "code",
   "execution_count": null,
   "id": "4a74abdd",
   "metadata": {
    "papermill": {
     "duration": 0.069193,
     "end_time": "2022-03-20T07:52:18.132736",
     "exception": false,
     "start_time": "2022-03-20T07:52:18.063543",
     "status": "completed"
    },
    "tags": []
   },
   "outputs": [],
   "source": []
  }
 ],
 "metadata": {
  "kernelspec": {
   "display_name": "Python 3",
   "language": "python",
   "name": "python3"
  },
  "language_info": {
   "codemirror_mode": {
    "name": "ipython",
    "version": 3
   },
   "file_extension": ".py",
   "mimetype": "text/x-python",
   "name": "python",
   "nbconvert_exporter": "python",
   "pygments_lexer": "ipython3",
   "version": "3.7.12"
  },
  "papermill": {
   "default_parameters": {},
   "duration": 52.215974,
   "end_time": "2022-03-20T07:52:19.030527",
   "environment_variables": {},
   "exception": null,
   "input_path": "__notebook__.ipynb",
   "output_path": "__notebook__.ipynb",
   "parameters": {},
   "start_time": "2022-03-20T07:51:26.814553",
   "version": "2.3.3"
  }
 },
 "nbformat": 4,
 "nbformat_minor": 5
}
